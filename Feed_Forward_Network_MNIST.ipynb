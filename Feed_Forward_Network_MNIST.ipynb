{
  "nbformat": 4,
  "nbformat_minor": 0,
  "metadata": {
    "colab": {
      "provenance": [],
      "include_colab_link": true
    },
    "kernelspec": {
      "name": "python3",
      "display_name": "Python 3"
    },
    "accelerator": "GPU"
  },
  "cells": [
    {
      "cell_type": "markdown",
      "metadata": {
        "id": "view-in-github",
        "colab_type": "text"
      },
      "source": [
        "<a href=\"https://colab.research.google.com/github/marparven1/MACHINE_LEARNING/blob/master/Feed_Forward_Network_MNIST.ipynb\" target=\"_parent\"><img src=\"https://colab.research.google.com/assets/colab-badge.svg\" alt=\"Open In Colab\"/></a>"
      ]
    },
    {
      "cell_type": "code",
      "metadata": {
        "id": "C88IhD6GA_rC"
      },
      "source": [
        "# Refs.\n",
        "# https://victorzhou.com/blog/keras-neural-network-tutorial/\n",
        "# https://wtfleming.github.io/2019/04/21/keras-mnist/"
      ],
      "execution_count": null,
      "outputs": []
    },
    {
      "cell_type": "markdown",
      "metadata": {
        "id": "vBXCrxsNca68"
      },
      "source": [
        "# Preparación de los datos"
      ]
    },
    {
      "cell_type": "code",
      "metadata": {
        "id": "CSzPCl_bBXGE",
        "colab": {
          "base_uri": "https://localhost:8080/",
          "height": 147
        },
        "outputId": "dbd82277-c696-4703-a532-87c47b13fc3a"
      },
      "source": [
        "# Preparing data \n",
        "import numpy as np\n",
        "from tensorflow.keras.datasets import mnist\n",
        "import matplotlib.pyplot as plt\n",
        "\n",
        "# Load mnist data\n",
        "(train_images, train_labels), (test_images, test_labels) = mnist.load_data()\n",
        "\n",
        "# Display some images\n",
        "_, ax = plt.subplots(1, 10, figsize=(10,10))\n",
        "for i in range(0, 10):\n",
        "    ax[i].axis('off')\n",
        "    ax[i].imshow(train_images[i], cmap=plt.cm.binary)\n",
        "\n",
        "# Image Normalization\n",
        "# Centered data simplifies learning.\n",
        "train_samples = (train_images / 255.0) - 0.5\n",
        "test_samples = (test_images / 255.0) - 0.5\n",
        "\n",
        "# Flatten the images.\n",
        "train_samples = train_samples.reshape((-1, 784))\n",
        "test_samples = test_samples.reshape((-1, 784))\n",
        "\n",
        "print(\"Training dims \", train_samples.shape) # (60000, 784)\n",
        "print(\"Testing dims \", test_samples.shape)  # (10000, 784)"
      ],
      "execution_count": null,
      "outputs": [
        {
          "output_type": "stream",
          "name": "stdout",
          "text": [
            "Downloading data from https://storage.googleapis.com/tensorflow/tf-keras-datasets/mnist.npz\n",
            "11490434/11490434 [==============================] - 2s 0us/step\n",
            "Training dims  (60000, 784)\n",
            "Testing dims  (10000, 784)\n"
          ]
        },
        {
          "output_type": "display_data",
          "data": {
            "text/plain": [
              "<Figure size 720x720 with 10 Axes>"
            ],
            "image/png": "[encoded data removed]"
          },
          "metadata": {
            "needs_background": "light"
          }
        }
      ]
    },
    {
      "cell_type": "markdown",
      "metadata": {
        "id": "NV5goqhdciWJ"
      },
      "source": [
        "# Creación de la red neuronal y entrenamiento"
      ]
    },
    {
      "cell_type": "code",
      "metadata": {
        "id": "gkXTVmFAEMWo",
        "colab": {
          "base_uri": "https://localhost:8080/"
        },
        "outputId": "fd48484b-c180-4c35-e28f-a7d689405e1b"
      },
      "source": [
        "# Model creation\n",
        "from tensorflow.keras.models import Sequential\n",
        "from tensorflow.keras.layers import Dense, Dropout, Activation, Flatten\n",
        "from tensorflow.keras.utils import to_categorical\n",
        "\n",
        "# Model\n",
        "model = Sequential()\n",
        "model.add( Dense(16, activation='relu', input_shape=(784,)) )\n",
        "model.add( Dense(10, activation='softmax') )\n",
        "\n",
        "# Display model details\n",
        "model.summary()\n",
        "\n",
        "# Model optimization\n",
        "model.compile(optimizer='adam',\n",
        "              loss='categorical_crossentropy',\n",
        "              metrics=['accuracy'])\n",
        "\n",
        "# Training\n",
        "history = model.fit(\n",
        "    train_samples,\n",
        "    to_categorical(train_labels),\n",
        "    epochs=100,\n",
        "    batch_size=32,\n",
        "    validation_data=(test_samples,to_categorical(test_labels))\n",
        ")"
      ],
      "execution_count": null,
      "outputs": [
        {
          "output_type": "stream",
          "name": "stdout",
          "text": [
            "Model: \"sequential\"\n",
            "_________________________________________________________________\n",
            " Layer (type)                Output Shape              Param #   \n",
            "=================================================================\n",
            " dense (Dense)               (None, 16)                12560     \n",
            "                                                                 \n",
            " dense_1 (Dense)             (None, 10)                170       \n",
            "                                                                 \n",
            "=================================================================\n",
            "Total params: 12,730\n",
            "Trainable params: 12,730\n",
            "Non-trainable params: 0\n",
            "_________________________________________________________________\n",
            "Epoch 1/100\n",
            "1875/1875 [==============================] - 9s 3ms/step - loss: 0.5614 - accuracy: 0.8380 - val_loss: 0.3505 - val_accuracy: 0.8977\n",
            "Epoch 2/100\n",
            "1875/1875 [==============================] - 5s 2ms/step - loss: 0.3499 - accuracy: 0.8986 - val_loss: 0.3172 - val_accuracy: 0.9075\n",
            "Epoch 3/100\n",
            "1875/1875 [==============================] - 5s 2ms/step - loss: 0.3170 - accuracy: 0.9087 - val_loss: 0.2954 - val_accuracy: 0.9152\n",
            "Epoch 4/100\n",
            "1875/1875 [==============================] - 5s 3ms/step - loss: 0.2990 - accuracy: 0.9134 - val_loss: 0.2884 - val_accuracy: 0.9163\n",
            "Epoch 5/100\n",
            "1875/1875 [==============================] - 5s 2ms/step - loss: 0.2851 - accuracy: 0.9167 - val_loss: 0.2699 - val_accuracy: 0.9226\n",
            "Epoch 6/100\n",
            "1875/1875 [==============================] - 5s 3ms/step - loss: 0.2744 - accuracy: 0.9212 - val_loss: 0.2659 - val_accuracy: 0.9215\n",
            "Epoch 7/100\n",
            "1875/1875 [==============================] - 5s 2ms/step - loss: 0.2646 - accuracy: 0.9231 - val_loss: 0.2738 - val_accuracy: 0.9179\n",
            "Epoch 8/100\n",
            "1875/1875 [==============================] - 5s 2ms/step - loss: 0.2560 - accuracy: 0.9263 - val_loss: 0.2510 - val_accuracy: 0.9281\n",
            "Epoch 9/100\n",
            "1875/1875 [==============================] - 5s 2ms/step - loss: 0.2489 - accuracy: 0.9281 - val_loss: 0.2579 - val_accuracy: 0.9244\n",
            "Epoch 10/100\n",
            "1875/1875 [==============================] - 5s 2ms/step - loss: 0.2441 - accuracy: 0.9286 - val_loss: 0.2532 - val_accuracy: 0.9251\n",
            "Epoch 11/100\n",
            "1875/1875 [==============================] - 5s 2ms/step - loss: 0.2382 - accuracy: 0.9308 - val_loss: 0.2434 - val_accuracy: 0.9276\n",
            "Epoch 12/100\n",
            "1875/1875 [==============================] - 5s 3ms/step - loss: 0.2350 - accuracy: 0.9326 - val_loss: 0.2391 - val_accuracy: 0.9293\n",
            "Epoch 13/100\n",
            "1875/1875 [==============================] - 6s 3ms/step - loss: 0.2322 - accuracy: 0.9329 - val_loss: 0.2322 - val_accuracy: 0.9319\n",
            "Epoch 14/100\n",
            "1875/1875 [==============================] - 5s 2ms/step - loss: 0.2300 - accuracy: 0.9334 - val_loss: 0.2384 - val_accuracy: 0.9285\n",
            "Epoch 15/100\n",
            "1875/1875 [==============================] - 5s 2ms/step - loss: 0.2267 - accuracy: 0.9340 - val_loss: 0.2224 - val_accuracy: 0.9338\n",
            "Epoch 16/100\n",
            "1875/1875 [==============================] - 5s 2ms/step - loss: 0.2245 - accuracy: 0.9347 - val_loss: 0.2258 - val_accuracy: 0.9351\n",
            "Epoch 17/100\n",
            "1875/1875 [==============================] - 5s 3ms/step - loss: 0.2222 - accuracy: 0.9347 - val_loss: 0.2277 - val_accuracy: 0.9337\n",
            "Epoch 18/100\n",
            "1875/1875 [==============================] - 5s 3ms/step - loss: 0.2205 - accuracy: 0.9354 - val_loss: 0.2432 - val_accuracy: 0.9286\n",
            "Epoch 19/100\n",
            "1875/1875 [==============================] - 5s 3ms/step - loss: 0.2177 - accuracy: 0.9366 - val_loss: 0.2379 - val_accuracy: 0.9329\n",
            "Epoch 20/100\n",
            "1875/1875 [==============================] - 5s 3ms/step - loss: 0.2166 - accuracy: 0.9365 - val_loss: 0.2192 - val_accuracy: 0.9374\n",
            "Epoch 21/100\n",
            "1875/1875 [==============================] - 5s 3ms/step - loss: 0.2149 - accuracy: 0.9373 - val_loss: 0.2256 - val_accuracy: 0.9340\n",
            "Epoch 22/100\n",
            "1875/1875 [==============================] - 5s 3ms/step - loss: 0.2123 - accuracy: 0.9377 - val_loss: 0.2272 - val_accuracy: 0.9332\n",
            "Epoch 23/100\n",
            "1875/1875 [==============================] - 5s 3ms/step - loss: 0.2118 - accuracy: 0.9377 - val_loss: 0.2256 - val_accuracy: 0.9331\n",
            "Epoch 24/100\n",
            "1875/1875 [==============================] - 5s 3ms/step - loss: 0.2093 - accuracy: 0.9376 - val_loss: 0.2185 - val_accuracy: 0.9359\n",
            "Epoch 25/100\n",
            "1875/1875 [==============================] - 5s 2ms/step - loss: 0.2088 - accuracy: 0.9384 - val_loss: 0.2266 - val_accuracy: 0.9324\n",
            "Epoch 26/100\n",
            "1875/1875 [==============================] - 5s 3ms/step - loss: 0.2054 - accuracy: 0.9393 - val_loss: 0.2180 - val_accuracy: 0.9357\n",
            "Epoch 27/100\n",
            "1875/1875 [==============================] - 5s 2ms/step - loss: 0.2061 - accuracy: 0.9390 - val_loss: 0.2178 - val_accuracy: 0.9366\n",
            "Epoch 28/100\n",
            "1875/1875 [==============================] - 5s 2ms/step - loss: 0.2051 - accuracy: 0.9392 - val_loss: 0.2175 - val_accuracy: 0.9376\n",
            "Epoch 29/100\n",
            "1875/1875 [==============================] - 5s 3ms/step - loss: 0.2028 - accuracy: 0.9398 - val_loss: 0.2090 - val_accuracy: 0.9396\n",
            "Epoch 30/100\n",
            "1875/1875 [==============================] - 5s 3ms/step - loss: 0.2023 - accuracy: 0.9404 - val_loss: 0.2234 - val_accuracy: 0.9353\n",
            "Epoch 31/100\n",
            "1875/1875 [==============================] - 5s 3ms/step - loss: 0.2014 - accuracy: 0.9406 - val_loss: 0.2171 - val_accuracy: 0.9372\n",
            "Epoch 32/100\n",
            "1875/1875 [==============================] - 5s 3ms/step - loss: 0.2008 - accuracy: 0.9402 - val_loss: 0.2227 - val_accuracy: 0.9337\n",
            "Epoch 33/100\n",
            "1875/1875 [==============================] - 5s 3ms/step - loss: 0.2005 - accuracy: 0.9401 - val_loss: 0.2262 - val_accuracy: 0.9351\n",
            "Epoch 34/100\n",
            "1875/1875 [==============================] - 5s 3ms/step - loss: 0.1986 - accuracy: 0.9410 - val_loss: 0.2091 - val_accuracy: 0.9388\n",
            "Epoch 35/100\n",
            "1875/1875 [==============================] - 5s 3ms/step - loss: 0.1984 - accuracy: 0.9409 - val_loss: 0.2292 - val_accuracy: 0.9303\n",
            "Epoch 36/100\n",
            "1875/1875 [==============================] - 5s 3ms/step - loss: 0.1988 - accuracy: 0.9410 - val_loss: 0.2142 - val_accuracy: 0.9365\n",
            "Epoch 37/100\n",
            "1875/1875 [==============================] - 5s 2ms/step - loss: 0.1972 - accuracy: 0.9416 - val_loss: 0.2178 - val_accuracy: 0.9381\n",
            "Epoch 38/100\n",
            "1875/1875 [==============================] - 5s 3ms/step - loss: 0.1963 - accuracy: 0.9419 - val_loss: 0.2257 - val_accuracy: 0.9328\n",
            "Epoch 39/100\n",
            "1875/1875 [==============================] - 7s 3ms/step - loss: 0.1958 - accuracy: 0.9414 - val_loss: 0.2130 - val_accuracy: 0.9371\n",
            "Epoch 40/100\n",
            "1875/1875 [==============================] - 5s 2ms/step - loss: 0.1949 - accuracy: 0.9421 - val_loss: 0.2216 - val_accuracy: 0.9353\n",
            "Epoch 41/100\n",
            "1875/1875 [==============================] - 5s 3ms/step - loss: 0.1951 - accuracy: 0.9425 - val_loss: 0.2211 - val_accuracy: 0.9366\n",
            "Epoch 42/100\n",
            "1875/1875 [==============================] - 5s 3ms/step - loss: 0.1938 - accuracy: 0.9420 - val_loss: 0.2108 - val_accuracy: 0.9395\n",
            "Epoch 43/100\n",
            "1875/1875 [==============================] - 5s 2ms/step - loss: 0.1935 - accuracy: 0.9419 - val_loss: 0.2197 - val_accuracy: 0.9364\n",
            "Epoch 44/100\n",
            "1875/1875 [==============================] - 5s 2ms/step - loss: 0.1931 - accuracy: 0.9426 - val_loss: 0.2286 - val_accuracy: 0.9348\n",
            "Epoch 45/100\n",
            "1875/1875 [==============================] - 5s 3ms/step - loss: 0.1919 - accuracy: 0.9430 - val_loss: 0.2163 - val_accuracy: 0.9387\n",
            "Epoch 46/100\n",
            "1875/1875 [==============================] - 5s 2ms/step - loss: 0.1915 - accuracy: 0.9435 - val_loss: 0.2270 - val_accuracy: 0.9350\n",
            "Epoch 47/100\n",
            "1875/1875 [==============================] - 5s 2ms/step - loss: 0.1901 - accuracy: 0.9439 - val_loss: 0.2105 - val_accuracy: 0.9391\n",
            "Epoch 48/100\n",
            "1875/1875 [==============================] - 5s 3ms/step - loss: 0.1909 - accuracy: 0.9433 - val_loss: 0.2099 - val_accuracy: 0.9380\n",
            "Epoch 49/100\n",
            "1875/1875 [==============================] - 5s 2ms/step - loss: 0.1904 - accuracy: 0.9433 - val_loss: 0.2220 - val_accuracy: 0.9371\n",
            "Epoch 50/100\n",
            "1875/1875 [==============================] - 5s 3ms/step - loss: 0.1897 - accuracy: 0.9429 - val_loss: 0.2175 - val_accuracy: 0.9378\n",
            "Epoch 51/100\n",
            "1875/1875 [==============================] - 5s 3ms/step - loss: 0.1894 - accuracy: 0.9435 - val_loss: 0.2147 - val_accuracy: 0.9393\n",
            "Epoch 52/100\n",
            "1875/1875 [==============================] - 5s 3ms/step - loss: 0.1895 - accuracy: 0.9437 - val_loss: 0.2173 - val_accuracy: 0.9376\n",
            "Epoch 53/100\n",
            "1875/1875 [==============================] - 5s 3ms/step - loss: 0.1897 - accuracy: 0.9434 - val_loss: 0.2112 - val_accuracy: 0.9391\n",
            "Epoch 54/100\n",
            "1875/1875 [==============================] - 5s 3ms/step - loss: 0.1886 - accuracy: 0.9435 - val_loss: 0.2151 - val_accuracy: 0.9375\n",
            "Epoch 55/100\n",
            "1875/1875 [==============================] - 5s 3ms/step - loss: 0.1896 - accuracy: 0.9432 - val_loss: 0.2159 - val_accuracy: 0.9375\n",
            "Epoch 56/100\n",
            "1875/1875 [==============================] - 5s 3ms/step - loss: 0.1873 - accuracy: 0.9438 - val_loss: 0.2265 - val_accuracy: 0.9340\n",
            "Epoch 57/100\n",
            "1875/1875 [==============================] - 5s 3ms/step - loss: 0.1864 - accuracy: 0.9443 - val_loss: 0.2152 - val_accuracy: 0.9374\n",
            "Epoch 58/100\n",
            "1875/1875 [==============================] - 5s 3ms/step - loss: 0.1857 - accuracy: 0.9445 - val_loss: 0.2130 - val_accuracy: 0.9387\n",
            "Epoch 59/100\n",
            "1875/1875 [==============================] - 5s 3ms/step - loss: 0.1851 - accuracy: 0.9450 - val_loss: 0.2178 - val_accuracy: 0.9370\n",
            "Epoch 60/100\n",
            "1875/1875 [==============================] - 5s 3ms/step - loss: 0.1864 - accuracy: 0.9436 - val_loss: 0.2070 - val_accuracy: 0.9404\n",
            "Epoch 61/100\n",
            "1875/1875 [==============================] - 5s 3ms/step - loss: 0.1856 - accuracy: 0.9446 - val_loss: 0.2214 - val_accuracy: 0.9354\n",
            "Epoch 62/100\n",
            "1875/1875 [==============================] - 5s 3ms/step - loss: 0.1849 - accuracy: 0.9444 - val_loss: 0.2119 - val_accuracy: 0.9379\n",
            "Epoch 63/100\n",
            "1875/1875 [==============================] - 5s 3ms/step - loss: 0.1842 - accuracy: 0.9443 - val_loss: 0.2166 - val_accuracy: 0.9359\n",
            "Epoch 64/100\n",
            "1875/1875 [==============================] - 5s 3ms/step - loss: 0.1841 - accuracy: 0.9447 - val_loss: 0.2215 - val_accuracy: 0.9373\n",
            "Epoch 65/100\n",
            "1875/1875 [==============================] - 5s 2ms/step - loss: 0.1838 - accuracy: 0.9445 - val_loss: 0.2142 - val_accuracy: 0.9393\n",
            "Epoch 66/100\n",
            "1875/1875 [==============================] - 5s 2ms/step - loss: 0.1831 - accuracy: 0.9444 - val_loss: 0.2161 - val_accuracy: 0.9390\n",
            "Epoch 67/100\n",
            "1875/1875 [==============================] - 5s 3ms/step - loss: 0.1830 - accuracy: 0.9450 - val_loss: 0.2181 - val_accuracy: 0.9372\n",
            "Epoch 68/100\n",
            "1875/1875 [==============================] - 5s 3ms/step - loss: 0.1836 - accuracy: 0.9448 - val_loss: 0.2197 - val_accuracy: 0.9362\n",
            "Epoch 69/100\n",
            "1875/1875 [==============================] - 5s 2ms/step - loss: 0.1828 - accuracy: 0.9449 - val_loss: 0.2090 - val_accuracy: 0.9393\n",
            "Epoch 70/100\n",
            "1875/1875 [==============================] - 5s 3ms/step - loss: 0.1816 - accuracy: 0.9449 - val_loss: 0.2167 - val_accuracy: 0.9387\n",
            "Epoch 71/100\n",
            "1875/1875 [==============================] - 5s 2ms/step - loss: 0.1817 - accuracy: 0.9449 - val_loss: 0.2134 - val_accuracy: 0.9390\n",
            "Epoch 72/100\n",
            "1875/1875 [==============================] - 5s 2ms/step - loss: 0.1820 - accuracy: 0.9452 - val_loss: 0.2194 - val_accuracy: 0.9344\n",
            "Epoch 73/100\n",
            "1875/1875 [==============================] - 5s 3ms/step - loss: 0.1814 - accuracy: 0.9449 - val_loss: 0.2212 - val_accuracy: 0.9355\n",
            "Epoch 74/100\n",
            "1875/1875 [==============================] - 5s 2ms/step - loss: 0.1810 - accuracy: 0.9445 - val_loss: 0.2269 - val_accuracy: 0.9335\n",
            "Epoch 75/100\n",
            "1875/1875 [==============================] - 5s 3ms/step - loss: 0.1810 - accuracy: 0.9457 - val_loss: 0.2344 - val_accuracy: 0.9311\n",
            "Epoch 76/100\n",
            "1875/1875 [==============================] - 5s 2ms/step - loss: 0.1813 - accuracy: 0.9462 - val_loss: 0.2193 - val_accuracy: 0.9364\n",
            "Epoch 77/100\n",
            "1875/1875 [==============================] - 5s 3ms/step - loss: 0.1798 - accuracy: 0.9456 - val_loss: 0.2246 - val_accuracy: 0.9345\n",
            "Epoch 78/100\n",
            "1875/1875 [==============================] - 5s 3ms/step - loss: 0.1787 - accuracy: 0.9467 - val_loss: 0.2119 - val_accuracy: 0.9389\n",
            "Epoch 79/100\n",
            "1875/1875 [==============================] - 5s 3ms/step - loss: 0.1797 - accuracy: 0.9453 - val_loss: 0.2170 - val_accuracy: 0.9366\n",
            "Epoch 80/100\n",
            "1875/1875 [==============================] - 5s 3ms/step - loss: 0.1792 - accuracy: 0.9460 - val_loss: 0.2175 - val_accuracy: 0.9391\n",
            "Epoch 81/100\n",
            "1875/1875 [==============================] - 5s 2ms/step - loss: 0.1787 - accuracy: 0.9458 - val_loss: 0.2245 - val_accuracy: 0.9340\n",
            "Epoch 82/100\n",
            "1875/1875 [==============================] - 5s 3ms/step - loss: 0.1782 - accuracy: 0.9467 - val_loss: 0.2093 - val_accuracy: 0.9412\n",
            "Epoch 83/100\n",
            "1875/1875 [==============================] - 5s 2ms/step - loss: 0.1787 - accuracy: 0.9455 - val_loss: 0.2130 - val_accuracy: 0.9412\n",
            "Epoch 84/100\n",
            "1875/1875 [==============================] - 5s 3ms/step - loss: 0.1789 - accuracy: 0.9463 - val_loss: 0.2186 - val_accuracy: 0.9363\n",
            "Epoch 85/100\n",
            "1875/1875 [==============================] - 5s 2ms/step - loss: 0.1766 - accuracy: 0.9467 - val_loss: 0.2160 - val_accuracy: 0.9367\n",
            "Epoch 86/100\n",
            "1875/1875 [==============================] - 5s 3ms/step - loss: 0.1774 - accuracy: 0.9462 - val_loss: 0.2168 - val_accuracy: 0.9382\n",
            "Epoch 87/100\n",
            "1875/1875 [==============================] - 5s 3ms/step - loss: 0.1772 - accuracy: 0.9462 - val_loss: 0.2223 - val_accuracy: 0.9378\n",
            "Epoch 88/100\n",
            "1875/1875 [==============================] - 5s 3ms/step - loss: 0.1782 - accuracy: 0.9459 - val_loss: 0.2185 - val_accuracy: 0.9361\n",
            "Epoch 89/100\n",
            "1875/1875 [==============================] - 5s 3ms/step - loss: 0.1764 - accuracy: 0.9469 - val_loss: 0.2092 - val_accuracy: 0.9391\n",
            "Epoch 90/100\n",
            "1875/1875 [==============================] - 5s 3ms/step - loss: 0.1760 - accuracy: 0.9468 - val_loss: 0.2121 - val_accuracy: 0.9407\n",
            "Epoch 91/100\n",
            "1875/1875 [==============================] - 5s 3ms/step - loss: 0.1759 - accuracy: 0.9472 - val_loss: 0.2265 - val_accuracy: 0.9343\n",
            "Epoch 92/100\n",
            "1875/1875 [==============================] - 5s 2ms/step - loss: 0.1758 - accuracy: 0.9469 - val_loss: 0.2174 - val_accuracy: 0.9361\n",
            "Epoch 93/100\n",
            "1875/1875 [==============================] - 5s 3ms/step - loss: 0.1761 - accuracy: 0.9471 - val_loss: 0.2172 - val_accuracy: 0.9369\n",
            "Epoch 94/100\n",
            "1875/1875 [==============================] - 5s 2ms/step - loss: 0.1750 - accuracy: 0.9471 - val_loss: 0.2120 - val_accuracy: 0.9383\n",
            "Epoch 95/100\n",
            "1875/1875 [==============================] - 5s 2ms/step - loss: 0.1750 - accuracy: 0.9468 - val_loss: 0.2117 - val_accuracy: 0.9395\n",
            "Epoch 96/100\n",
            "1875/1875 [==============================] - 5s 3ms/step - loss: 0.1750 - accuracy: 0.9467 - val_loss: 0.2151 - val_accuracy: 0.9369\n",
            "Epoch 97/100\n",
            "1875/1875 [==============================] - 5s 2ms/step - loss: 0.1754 - accuracy: 0.9469 - val_loss: 0.2109 - val_accuracy: 0.9395\n",
            "Epoch 98/100\n",
            "1875/1875 [==============================] - 5s 3ms/step - loss: 0.1746 - accuracy: 0.9473 - val_loss: 0.2135 - val_accuracy: 0.9378\n",
            "Epoch 99/100\n",
            "1875/1875 [==============================] - 5s 3ms/step - loss: 0.1737 - accuracy: 0.9476 - val_loss: 0.2089 - val_accuracy: 0.9406\n",
            "Epoch 100/100\n",
            "1875/1875 [==============================] - 5s 3ms/step - loss: 0.1733 - accuracy: 0.9473 - val_loss: 0.2156 - val_accuracy: 0.9383\n"
          ]
        }
      ]
    },
    {
      "cell_type": "code",
      "metadata": {
        "id": "8xJGH6OpHOWE",
        "colab": {
          "base_uri": "https://localhost:8080/",
          "height": 573
        },
        "outputId": "aa96de0e-fdd9-4aa7-838b-84f60d1db0a5"
      },
      "source": [
        "# Visualization of training results\n",
        "import matplotlib.pyplot as plt\n",
        "\n",
        "# summarize history for accuracy\n",
        "plt.plot(history.history['accuracy'])\n",
        "plt.plot(history.history['val_accuracy'],'r')\n",
        "plt.title('model accuracy')\n",
        "plt.ylabel('accuracy')\n",
        "plt.xlabel('epoch')\n",
        "plt.show()\n",
        "\n",
        "# summarize history for loss\n",
        "plt.plot(history.history['loss'])\n",
        "plt.plot(history.history['val_loss'],'r')\n",
        "plt.title('model loss')\n",
        "plt.ylabel('loss')\n",
        "plt.xlabel('epoch')\n",
        "plt.show()"
      ],
      "execution_count": null,
      "outputs": [
        {
          "output_type": "display_data",
          "data": {
            "text/plain": [
              "<Figure size 432x288 with 1 Axes>"
            ],
            "image/png": "[encoded data removed]"
          },
          "metadata": {
            "needs_background": "light"
          }
        },
        {
          "output_type": "display_data",
          "data": {
            "text/plain": [
              "<Figure size 432x288 with 1 Axes>"
            ],
            "image/png": "[encoded data removed]"
          },
          "metadata": {
            "needs_background": "light"
          }
        }
      ]
    },
    {
      "cell_type": "code",
      "metadata": {
        "id": "ZwNqYPySH7-L"
      },
      "source": [
        "# Visualization of some testing images\n",
        "\n",
        "# Prediction for the first 10 images of test set\n",
        "predictions = model.predict(test_samples[:10])\n",
        "\n",
        "for i in range(0, 10):\n",
        "  plt.figure()\n",
        "  plt.imshow(test_images[i], cmap=plt.cm.binary)\n",
        "  plt.show()\n",
        "  print( predictions[i] )"
      ],
      "execution_count": null,
      "outputs": []
    },
    {
      "cell_type": "markdown",
      "metadata": {
        "id": "6YRFAN31cxTE"
      },
      "source": [
        "# Ejercicio 1\n",
        "\n",
        "Modifique la red de la sección anterior para que tenga dos capas ocultas de 128 neuronas cada una. Observe y discuta la evolución de la función de loss y accuracy tanto en training como en validation. Analice las funciones de activación utilizadas. \n"
      ]
    },
    {
      "cell_type": "markdown",
      "metadata": {
        "id": "ASM4k0z511mu"
      },
      "source": [
        "# Ejercicio 2\n",
        "\n",
        "Implemente una red neuronal que permita clasificar las imágenes del dataset que se describe en: https://keras.io/api/datasets/cifar10/"
      ]
    }
  ]
}