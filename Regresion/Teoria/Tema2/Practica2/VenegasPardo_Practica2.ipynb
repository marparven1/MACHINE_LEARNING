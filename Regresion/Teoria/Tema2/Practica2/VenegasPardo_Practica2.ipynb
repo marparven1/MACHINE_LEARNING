{
 "cells": [
  {
   "cell_type": "markdown",
   "id": "5cdd3917-5261-4f4e-9128-a71005c3ab63",
   "metadata": {},
   "source": [
    "# Aprendizaje automático. Práctica 2\n",
    "## Marta Venegas Pardo"
   ]
  },
  {
   "cell_type": "markdown",
   "id": "4a9e1123",
   "metadata": {},
   "source": [
    "## Índice de contenidos:\n",
    "* [Entrega 1](#first-E)\n",
    "    * [Regresión lineal simple](#RLS)\n",
    "        * [Paso 1: Instalación de librerías](#RLS-1)\n",
    "        * [Paso 2: Carga de datos](#RLS-2)\n",
    "        * [Paso 3: Creación del modelo y ajuste](#RLS-3)\n",
    "        * [Paso 4: Obtención de los resultados](#RLS-4)\n",
    "        * [Paso 5: Cálculo de prediccciones](#RLS-5)\n",
    "    * [Regresión lineal múltiple](#RLM)\n",
    "        * [Paso 1 y 2: Librerías y carga de datos](#RLM-1-2)\n",
    "        * [Paso 3: Creación y entrenamiento del modelo](#RLM-3)\n",
    "        * [Paso 4: Obtención de las métricas y coeficientes del modelo](#RLM-4)\n",
    "        * [Paso 5: Predicción de la respuesta](#RLM-5)\n",
    "* [Entrega2](#second-E)\n",
    "    * [Regresión polinómica](#RP)\n",
    "        * [Paso 1: Carga de librerías](#RP-1)\n",
    "        * [Paso 2: Carga de datos y transformación](#RP-2)\n",
    "        * [Paso 3: Creación y entrenamiento del modelo](#RP-3)\n",
    "        * [Paso 4: Obtención de los resultados](#RP-4)\n",
    "        * [Paso 5: Predicciones](#RP-5)\n",
    "    * [Regresión lineal avanzada con *statsmodels*](#SM)\n",
    "        * [Paso 1: Importación y carga de librerías](#SM-1)\n",
    "        * [Paso 2: Carga de datos](#SM-2)\n",
    "        * [Paso 3: Creación y entrenamiento del modelo](#SM-3)\n",
    "        * [Paso 4: Resultados del modelado](#SM-4)\n",
    "    * [Ejemplos de regresión lineal](#EJ)\n",
    "        * [Regresión lineal simple](#EJ-1)\n",
    "        * [Regresión lineal múltiple](#EJ-2)\n",
    "        * [Regresión polinómica](#EJ-3)"
   ]
  },
  {
   "cell_type": "markdown",
   "id": "66d12c40-5231-487a-92f5-ac4272770a32",
   "metadata": {
    "tags": []
   },
   "source": [
    "## Entrega 2.1<a class=\"anchor\" id=\"first-E\"></a>"
   ]
  },
  {
   "cell_type": "markdown",
   "id": "f831fc40-f049-4119-a6b5-5cb63642167a",
   "metadata": {},
   "source": [
    "<h3>Simple Linear Regression- Regresión lineal simple</h3><a class=\"anchor\" id=\"RLS\"></a>"
   ]
  },
  {
   "cell_type": "markdown",
   "id": "b2f83370-0a75-40d6-9767-11a03d67f805",
   "metadata": {},
   "source": [
    "<h4>Paso 1: Instalación de librerías</h4><a class=\"anchor\" id=\"RLS-1\"></a>"
   ]
  },
  {
   "cell_type": "code",
   "execution_count": 1,
   "id": "b92c7d8d-8b6a-4760-824f-6d3f43fd88f7",
   "metadata": {},
   "outputs": [],
   "source": [
    "## Instalación de librerías\n",
    "import numpy as np \n",
    "import pandas as pd\n",
    "# import sklearn\n",
    "# Modelo de regresión lineal\n",
    "from sklearn.linear_model import LinearRegression\n",
    "# Gráficas\n",
    "import matplotlib.pyplot as plt"
   ]
  },
  {
   "cell_type": "code",
   "execution_count": 2,
   "id": "6b2a8f09-d2f9-4761-96fd-be873b29bfd9",
   "metadata": {},
   "outputs": [],
   "source": [
    "# LinearRegression: fit_intercept, normalize"
   ]
  },
  {
   "cell_type": "markdown",
   "id": "09635117-d533-4a8a-a0a9-aea93a3653d9",
   "metadata": {},
   "source": [
    "<h4>Paso 2: Carga de datos</h4><a class=\"anchor\" id=\"RLS-2\"></a>"
   ]
  },
  {
   "cell_type": "code",
   "execution_count": 3,
   "id": "8fab133b-ecb8-4770-a644-07d884c1746b",
   "metadata": {},
   "outputs": [],
   "source": [
    "x = np.array([5, 15, 25, 35, 45, 55]).reshape((-1, 1)) # Variable explicativa\n",
    "y = np.array([5, 20, 14, 32, 22, 38]) # Variable objetivo/respuesta"
   ]
  },
  {
   "cell_type": "code",
   "execution_count": 4,
   "id": "54be9b0d-aba8-44e1-9d24-78d0ca1a7db4",
   "metadata": {},
   "outputs": [
    {
     "name": "stdout",
     "output_type": "stream",
     "text": [
      "Regresor,x:\n",
      " [[ 5]\n",
      " [15]\n",
      " [25]\n",
      " [35]\n",
      " [45]\n",
      " [55]] \n",
      "Dimensiones:  (6, 1) \n",
      "\n",
      "Respuesta,y:\n",
      " [ 5 20 14 32 22 38] \n",
      "Dimensiones: (6,)\n"
     ]
    }
   ],
   "source": [
    "print('Regresor,x:\\n',x,'\\nDimensiones: ',x.shape,'\\n\\nRespuesta,y:\\n',y,'\\nDimensiones:',y.shape)"
   ]
  },
  {
   "cell_type": "markdown",
   "id": "e3f5ad18-eea6-4c3b-bc02-928a525f42c7",
   "metadata": {},
   "source": [
    "<h4>Paso 3: Creación del modelo y ajuste</h4><a class=\"anchor\" id=\"RLS-3\"></a>"
   ]
  },
  {
   "cell_type": "code",
   "execution_count": 5,
   "id": "180e4700-122c-43cb-9804-9ad2d871f987",
   "metadata": {},
   "outputs": [],
   "source": [
    "# Definición del modelo\n",
    "modelo = LinearRegression() # No añadimos hiperparámetros (fit_intercept: t independiente beta0, normalize: normalizar datos, n_jobs)"
   ]
  },
  {
   "cell_type": "code",
   "execution_count": 6,
   "id": "40929837-464a-436c-90e1-4af5d0d2ab28",
   "metadata": {},
   "outputs": [
    {
     "data": {
      "text/plain": [
       "LinearRegression()"
      ]
     },
     "execution_count": 6,
     "metadata": {},
     "output_type": "execute_result"
    }
   ],
   "source": [
    "# Ajuste del modelo\n",
    "modelo.fit(x,y) "
   ]
  },
  {
   "cell_type": "markdown",
   "id": "4498149b-5f21-4bce-b71e-c2add9258ce6",
   "metadata": {},
   "source": [
    "**Modelo**\n",
    "\n",
    "Con el argumento *.fit* estamos calculando los la estimaación de los coeficientes de regresión $\\beta_0$ y $\\beta_1$, obteniendo así $\\hat\\beta_0$ y $\\hat\\beta_1$ . \n",
    "\n",
    "Es decir, la ecuación de regresión linear simple es la siguiente:\n",
    "\n",
    "<center>$Y = \\beta_0 + \\beta_1 x + \\epsilon$</center>\n",
    "\n",
    "Donde:\n",
    "- $\\beta_0$ es el término independiente, y se trata del valor esperado de la respuesta Y cuando $x_1=0$\n",
    "- $\\beta_1$ mide el cambio en Y por cada modificación unitaria en x \n",
    "- $\\epsilon$ es el error de observación cometido debido a la aleatoriedad\n",
    "\n",
    "Y en el caso de la estimación:\n",
    "\n",
    "<center>$\\hat y = \\hat\\beta_0 + \\hat\\beta_1 x$</center>"
   ]
  },
  {
   "cell_type": "code",
   "execution_count": 7,
   "id": "d6fdfed3-3e30-4ef5-9aa9-e851b694642a",
   "metadata": {},
   "outputs": [],
   "source": [
    "# Otra forma más rápida:\n",
    "model = LinearRegression().fit(x, y)"
   ]
  },
  {
   "cell_type": "markdown",
   "id": "72b1f6c6-4c56-460a-841d-d711a5fdf7f9",
   "metadata": {},
   "source": [
    "<h4>Paso 4: Obtención de los resultados</h4><a class=\"anchor\" id=\"RLS-4\"></a>"
   ]
  },
  {
   "cell_type": "code",
   "execution_count": 8,
   "id": "a1942622-ed6f-4f25-97e2-66e68e0dbb5d",
   "metadata": {},
   "outputs": [
    {
     "name": "stdout",
     "output_type": "stream",
     "text": [
      "Coeficiente de determinación: 0.715875613747954\n"
     ]
    }
   ],
   "source": [
    "r_sq = model.score(x, y)\n",
    "print(f\"Coeficiente de determinación: {r_sq}\")"
   ]
  },
  {
   "cell_type": "markdown",
   "id": "664f6219-2499-497f-ac65-fd056556d6d7",
   "metadata": {},
   "source": [
    "Este coeficiente es una medida de la bondad de ajuste del modelo, en otras palabras, se trata de una medida de la bondad de ajuste de la recta a los datos. Se tiene que $R^2  = 0.716$, es decir, el modelo (la recta) explica casi un $72\\%$ de la varaibilidad total de la variable respuesta."
   ]
  },
  {
   "cell_type": "markdown",
   "id": "1cf6f8b2-b00c-4da6-826f-64b38b19864e",
   "metadata": {},
   "source": [
    "Los coeficientes del modelo son los siguientes:"
   ]
  },
  {
   "cell_type": "code",
   "execution_count": 9,
   "id": "7b493439-16b4-4619-b9d8-bec22ff4ddd9",
   "metadata": {},
   "outputs": [
    {
     "name": "stdout",
     "output_type": "stream",
     "text": [
      "intercept: 5.633333333333329\n",
      "slope: [0.54]\n"
     ]
    }
   ],
   "source": [
    "print(f\"intercept: {modelo.intercept_}\") # Intercept es un número\n",
    "\n",
    "print(f\"slope: {modelo.coef_}\") # Slope es un array"
   ]
  },
  {
   "cell_type": "markdown",
   "id": "ac313c99-84c9-4544-ba3a-0ce9ae48c811",
   "metadata": {},
   "source": [
    "Y por tanto, la ecuación de la recta de regresión es la siguiente: \n",
    "<center>$\\hat y = 5,63+0,54x$</center>\n",
    "\n",
    "Se tiene que: \n",
    "\n",
    "- El valor de $\\beta_0 = 5,63$ indica que la varaible respuesta es 5,63 cuando $x=0$\n",
    "- $\\beta_0 = 0,54$ significa que el valor de y aumenta 0,54 cuando x aumenta en una unidad."
   ]
  },
  {
   "cell_type": "markdown",
   "id": "35021d6e-0435-409a-a99e-44f255ac4dab",
   "metadata": {},
   "source": [
    "Ahora vamos a introducir $y$ como un array bidimensional, al igual que $x$, obteniendo así el mismo modelo:"
   ]
  },
  {
   "cell_type": "code",
   "execution_count": 10,
   "id": "3361fb29-d906-4689-9642-bba76555ff0f",
   "metadata": {},
   "outputs": [
    {
     "name": "stdout",
     "output_type": "stream",
     "text": [
      "intercept: [5.63333333]\n",
      "slope: [[0.54]]\n"
     ]
    }
   ],
   "source": [
    "Modelo2 = LinearRegression().fit(x, y.reshape((-1, 1)))\n",
    "print(f\"intercept: {Modelo2.intercept_}\")\n",
    "\n",
    "print(f\"slope: {Modelo2.coef_}\")\n",
    "\n",
    "# Son ambos arrays (unidimensional y bidimensional, respectivamente)"
   ]
  },
  {
   "cell_type": "markdown",
   "id": "7d98d99e-b4f2-4304-8ca0-0e5619409423",
   "metadata": {},
   "source": [
    "<h4>Paso 5: Cálculo de predicciones</h4><a class=\"anchor\" id=\"RLS-5\"></a>"
   ]
  },
  {
   "cell_type": "code",
   "execution_count": 11,
   "id": "a6a91a9d-aebe-4cd5-b3d6-b0a4fb5c14ec",
   "metadata": {},
   "outputs": [
    {
     "name": "stdout",
     "output_type": "stream",
     "text": [
      "Predicciones:\n",
      "[ 8.33333333 13.73333333 19.13333333 24.53333333 29.93333333 35.33333333]\n"
     ]
    }
   ],
   "source": [
    "y_pred = modelo.predict(x)\n",
    "print(f\"Predicciones:\\n{y_pred}\") # Array unidimensional"
   ]
  },
  {
   "cell_type": "markdown",
   "id": "5c4525fd-2cf9-43bc-944e-e2bc2cb499e0",
   "metadata": {},
   "source": [
    "Otra manera de realizar predicciones es sustituyendo los valores en la recta de regresión calculada, como vemos a continuación."
   ]
  },
  {
   "cell_type": "code",
   "execution_count": 12,
   "id": "2daa38aa-85f7-424d-98f0-567d48287c97",
   "metadata": {},
   "outputs": [
    {
     "name": "stdout",
     "output_type": "stream",
     "text": [
      "Respuesta:\n",
      "[[ 8.33333333]\n",
      " [13.73333333]\n",
      " [19.13333333]\n",
      " [24.53333333]\n",
      " [29.93333333]\n",
      " [35.33333333]]\n"
     ]
    }
   ],
   "source": [
    "# Otra forma, utilizando beta0 y beta1\n",
    "\n",
    "y_pred = modelo.intercept_ + modelo.coef_ * x\n",
    "print(f\"Respuesta:\\n{y_pred}\") # Array bidimensional "
   ]
  },
  {
   "cell_type": "code",
   "execution_count": 13,
   "id": "be56f7a6-f1d4-481d-a74c-f855fc36c088",
   "metadata": {},
   "outputs": [
    {
     "name": "stdout",
     "output_type": "stream",
     "text": [
      "Respuesta:\n",
      "[ 8.33333333 13.73333333 19.13333333 24.53333333 29.93333333 35.33333333]\n"
     ]
    }
   ],
   "source": [
    "# Otra forma, utilizando beta0 y beta1\n",
    "\n",
    "y_pred = modelo.intercept_ + modelo.coef_ *  x.flatten()\n",
    "print(f\"Respuesta:\\n{y_pred}\") # Array bidimensional "
   ]
  },
  {
   "cell_type": "markdown",
   "id": "971b48ec-af60-4f33-bb13-976a86400b56",
   "metadata": {},
   "source": [
    "Vamos ahora a utilizar el modelo en datos nuevos para así predecir el valor de Y para cada valor de x."
   ]
  },
  {
   "cell_type": "code",
   "execution_count": 14,
   "id": "c2acaafd-ef07-4708-bb2d-8fb05e141cab",
   "metadata": {},
   "outputs": [
    {
     "data": {
      "text/plain": [
       "array([[0],\n",
       "       [1],\n",
       "       [2],\n",
       "       [3],\n",
       "       [4]])"
      ]
     },
     "execution_count": 14,
     "metadata": {},
     "output_type": "execute_result"
    }
   ],
   "source": [
    "x_new = np.arange(5).reshape((-1, 1))\n",
    "x_new"
   ]
  },
  {
   "cell_type": "markdown",
   "id": "f376dbe1-d006-4061-8bf4-0c1995a0a3f6",
   "metadata": {},
   "source": [
    "Los valores de Y para estos valores de X son:"
   ]
  },
  {
   "cell_type": "code",
   "execution_count": 15,
   "id": "47eb3d31-5ad9-41a9-8a91-583adcc5d0e9",
   "metadata": {},
   "outputs": [
    {
     "data": {
      "text/plain": [
       "array([5.63333333, 6.17333333, 6.71333333, 7.25333333, 7.79333333])"
      ]
     },
     "execution_count": 15,
     "metadata": {},
     "output_type": "execute_result"
    }
   ],
   "source": [
    "y_new = model.predict(x_new)\n",
    "y_new"
   ]
  },
  {
   "cell_type": "code",
   "execution_count": 16,
   "id": "bdd0931b-b57b-4c26-81d7-1e88ffdc83f6",
   "metadata": {},
   "outputs": [],
   "source": [
    "x_new = x_new.ravel().tolist()\n",
    "lista = list(zip(x_new,y_new))"
   ]
  },
  {
   "cell_type": "code",
   "execution_count": 17,
   "id": "80061598-3d85-4d16-9f13-d79c82c39836",
   "metadata": {},
   "outputs": [
    {
     "name": "stdout",
     "output_type": "stream",
     "text": [
      "x \t y_pred\n",
      "------------------------------\n",
      "(0, 5.633333333333329)\n",
      "(1, 6.173333333333329)\n",
      "(2, 6.713333333333329)\n",
      "(3, 7.25333333333333)\n",
      "(4, 7.7933333333333294)\n"
     ]
    }
   ],
   "source": [
    "print('x','\\t','y_pred')\n",
    "print('-'*30)\n",
    "for i in lista:\n",
    "    print(i)"
   ]
  },
  {
   "cell_type": "markdown",
   "id": "5444174a-f6e2-4bb8-b7a8-476b8ba79440",
   "metadata": {},
   "source": [
    "<h3>Multiple Linear Regression - Regresión lineal múltiple</h3><a class=\"anchor\" id=\"RLM\"></a>"
   ]
  },
  {
   "cell_type": "markdown",
   "id": "62ef7d05-4634-4ca7-bc2e-36ab15b7563e",
   "metadata": {},
   "source": [
    "<h4>Pasos 1 y 2: Librerías y carga de datos</h4><a class=\"anchor\" id=\"RLM-1-2\"></a>"
   ]
  },
  {
   "cell_type": "code",
   "execution_count": 18,
   "id": "b2eb4fc1-73ca-4161-be47-ac9f7419e142",
   "metadata": {},
   "outputs": [],
   "source": [
    "# Cargamos las librerías\n",
    "import numpy as np\n",
    "from sklearn.linear_model import LinearRegression"
   ]
  },
  {
   "cell_type": "code",
   "execution_count": 19,
   "id": "b8392949-27a8-4623-bc8c-4c2e4cf8b9aa",
   "metadata": {},
   "outputs": [],
   "source": [
    "# Datos\n",
    "x = [[0, 1], [5, 1], [15, 2], [25, 5], [35, 11], [45, 15], [55, 34], [60, 35]]\n",
    "y = [4, 5, 20, 14, 32, 22, 38, 43]\n",
    "x, y = np.array(x), np.array(y)"
   ]
  },
  {
   "cell_type": "code",
   "execution_count": 20,
   "id": "fab1f0e9-a923-4f9c-8f94-3ac67abd9742",
   "metadata": {},
   "outputs": [
    {
     "name": "stdout",
     "output_type": "stream",
     "text": [
      "Variables predictoras, x_1 y x_2:\n",
      " [[ 0  1]\n",
      " [ 5  1]\n",
      " [15  2]\n",
      " [25  5]\n",
      " [35 11]\n",
      " [45 15]\n",
      " [55 34]\n",
      " [60 35]] \n",
      "\n",
      "Variable respuesta:\n",
      " [ 4  5 20 14 32 22 38 43]\n"
     ]
    }
   ],
   "source": [
    "print('Variables predictoras, x_1 y x_2:\\n',x,'\\n\\nVariable respuesta:\\n',y)"
   ]
  },
  {
   "cell_type": "markdown",
   "id": "2209dbe4-2f8c-4fa8-b83a-a6f865635766",
   "metadata": {},
   "source": [
    "**Modelo**\n",
    "\n",
    "Nuestro objetivo ahora será estimar el valor de la respuesta y en función de las variables independientes $x_1$ y $x_2$ de la siguiente forma: \n",
    "\n",
    "<center>$Y=f(x_1,x_2) = \\beta_0 + \\beta_1 x_1 + \\beta_2 x_2 + \\epsilon$ </center>\n",
    "\n",
    "Donde:\n",
    "- $\\beta_0$ es el término independiente, y se trata del valor esperado de la respuesta Y cuando $x_1=x_2=0$\n",
    "- $\\beta_1$ mide el cambio en Y por cada modificación unitaria en x , manteniendo X2 constante\n",
    "- $\\epsilon$ es el error de observación cometido debido a la aleatoriedad\n",
    "\n",
    "\n",
    "El objetivo principal será estimar los valores de los coeficientes de regresión $\\beta_0 , \\beta_1 \\text{ y } \\beta_2$ por $\\hat\\beta_0 , \\hat\\beta_1 \\text{ y } \\hat\\beta_2$ a partir de la muestra y de tal modo que se minimicen las distancias a los valores de la respuesta Y, es decir, minimizando la súma de los cuadrados de los resíduos."
   ]
  },
  {
   "cell_type": "markdown",
   "id": "6ed9c84c-5bcb-4097-9f52-3cd662f47f28",
   "metadata": {},
   "source": [
    "<h4>Paso 3: Creación y entrenamiendo del modelo</h4><a class=\"anchor\" id=\"RLM-3\"></a>"
   ]
  },
  {
   "cell_type": "code",
   "execution_count": 21,
   "id": "3654706b-2ec1-4e3a-b0ca-47d1dba5af4b",
   "metadata": {},
   "outputs": [],
   "source": [
    "# Definimos el modelo y lo entrenamos con fit\n",
    "modelo = LinearRegression().fit(x, y)"
   ]
  },
  {
   "cell_type": "markdown",
   "id": "1183d79b-0a01-4a3d-b87d-727f3298a85e",
   "metadata": {},
   "source": [
    "<h4>Paso 4: Obtención de las métricas y coeficientes del modelo</h4><a class=\"anchor\" id=\"RLM-4\"></a>"
   ]
  },
  {
   "cell_type": "code",
   "execution_count": 22,
   "id": "a0a9097e-c48f-4d6a-a370-c942f9b1903a",
   "metadata": {},
   "outputs": [
    {
     "name": "stdout",
     "output_type": "stream",
     "text": [
      "Métricas:\n",
      "\n",
      "Coeficiente de determinación: 0.8615939258756775\n",
      "Término independiente: 5.52257927519819\n",
      "Coeficientes beta: [0.44706965 0.25502548]\n"
     ]
    }
   ],
   "source": [
    "r_sq = modelo.score(x, y) # R2\n",
    "print('Métricas:\\n')\n",
    "print(f\"Coeficiente de determinación: {r_sq}\")\n",
    "print(f\"Término independiente: {modelo.intercept_}\")\n",
    "print(f\"Coeficientes beta: {modelo.coef_}\")"
   ]
  },
  {
   "cell_type": "markdown",
   "id": "cb17156a-203a-44c8-8928-85fdf1eef6bf",
   "metadata": {},
   "source": [
    "Con estos resultados, podemos afirmar que nuestro modelo explica el 86.16$\\%$ de la variabilidad de la respuesta Y.\n",
    "\n",
    "La ecuación del modelo es la siguiente:\n",
    "\n",
    "<center>$\\hat{f(x_1,x_2)}=5.52+0.44 x_1 + 0.25 x_2$</center>"
   ]
  },
  {
   "cell_type": "markdown",
   "id": "901aeae6-e0ed-4966-847b-ecb1239b1165",
   "metadata": {},
   "source": [
    "Es decir, cuando ambos valores de $x_1$ y $x_2$ son nulos, el valor de la respuesta será 5.52. Además, si mantenemos constantes el resto de variables, podemos afirmar que un aumento en una unidad del valor de la variable $x_1$ supone un amento de la respuesta en 0.44 unidades. Ocurre lo mismo con la variable $x_2$. Un aumento de ésta en una unidad, y manteniendo el resto de variables constantes, supone un aumento de laa respuesta en un valor de 0.25."
   ]
  },
  {
   "cell_type": "markdown",
   "id": "f4b73529-bbb0-4ae6-ad84-ca9de3175521",
   "metadata": {},
   "source": [
    "<h4>Paso 5: Predicción de la respuesta</h4><a class=\"anchor\" id=\"RLM-5\"></a>\n",
    "\n",
    "A partir de los valores de x y trás haber entrenado el modelo, vamos a calcular el valor de la respuesta:"
   ]
  },
  {
   "cell_type": "code",
   "execution_count": 23,
   "id": "69f37a63-f51f-4ff0-8f5b-13c906eef6b5",
   "metadata": {},
   "outputs": [
    {
     "name": "stdout",
     "output_type": "stream",
     "text": [
      "Predicciones:\n",
      "[ 5.77760476  8.012953   12.73867497 17.9744479  23.97529728 29.4660957\n",
      " 38.78227633 41.27265006]\n"
     ]
    }
   ],
   "source": [
    "Predicciones = modelo.predict(x)\n",
    "print(f\"Predicciones:\\n{Predicciones}\")"
   ]
  },
  {
   "cell_type": "markdown",
   "id": "4bdd7af7-0bd4-436a-b5a3-6a761cb43130",
   "metadata": {},
   "source": [
    "También podemos calcular estos valores a partir de los coeficientes individuales de varias formas diferentes:"
   ]
  },
  {
   "cell_type": "code",
   "execution_count": 24,
   "id": "2ad6dda5-2da0-4529-8aba-ebfdc212a16d",
   "metadata": {},
   "outputs": [
    {
     "name": "stdout",
     "output_type": "stream",
     "text": [
      "Predicción de la respuesta:\n",
      "[ 5.77760476  8.012953   12.73867497 17.9744479  23.97529728 29.4660957\n",
      " 38.78227633 41.27265006]\n"
     ]
    }
   ],
   "source": [
    "y_pred = modelo.intercept_ + np.sum(modelo.coef_ * x, axis=1)\n",
    "print(f\"Predicción de la respuesta:\\n{y_pred}\")"
   ]
  },
  {
   "cell_type": "code",
   "execution_count": 25,
   "id": "2099c5b0-2dd6-4287-a70e-d3393edbc02c",
   "metadata": {},
   "outputs": [],
   "source": [
    "#modelo.intercept_ + x[0][0]*modelo.coef_[0] +x[0][1]*modelo.coef_[1]  "
   ]
  },
  {
   "cell_type": "code",
   "execution_count": 26,
   "id": "611ba8fc-4cd9-4512-9a47-e2e8f12b762e",
   "metadata": {},
   "outputs": [
    {
     "name": "stdout",
     "output_type": "stream",
     "text": [
      "x1,x2: \t Predicción y\n",
      "[0 1] : 5.777604756511893\n",
      "[5 1] : 8.012953001132505\n",
      "[15  2] : 12.738674971687429\n",
      "[25  5] : 17.974447904869763\n",
      "[35 11] : 23.975297281993207\n",
      "[45 15] : 29.46609569648924\n",
      "[55 34] : 38.78227633069082\n",
      "[60 35] : 41.27265005662514\n"
     ]
    }
   ],
   "source": [
    "res = []\n",
    "print('x1,x2: \\t Predicción y')\n",
    "for i in x:\n",
    "    res_i = modelo.intercept_ + i[0]*modelo.coef_[0] +i[1]*modelo.coef_[1] \n",
    "    res.append(modelo.intercept_ + i[0]*modelo.coef_[0] +i[1]*modelo.coef_[1]  )\n",
    "    print(i, ':',res_i)"
   ]
  },
  {
   "cell_type": "markdown",
   "id": "c42f4f47-372f-4d7f-b9c3-24e94743d204",
   "metadata": {},
   "source": [
    "Vamos a observar ahora una comparación de los valores reales y las predicciones:"
   ]
  },
  {
   "cell_type": "code",
   "execution_count": 27,
   "id": "be1c4355-0250-413b-be4b-ac7bf20c8b84",
   "metadata": {},
   "outputs": [
    {
     "name": "stdout",
     "output_type": "stream",
     "text": [
      "Predicción y \t\t y \t Error absoluto e_i:\n",
      "--------------------------------------------------\n",
      "5.777604756511893 \t 4 \t 1.7776047565118933\n",
      "8.012953001132505 \t 5 \t 3.012953001132505\n",
      "12.738674971687429 \t 20 \t -7.261325028312571\n",
      "17.974447904869763 \t 14 \t 3.9744479048697627\n",
      "23.975297281993207 \t 32 \t -8.024702718006793\n",
      "29.46609569648924 \t 22 \t 7.466095696489241\n",
      "38.78227633069082 \t 38 \t 0.78227633069082\n",
      "41.27265005662514 \t 43 \t -1.7273499433748611\n"
     ]
    }
   ],
   "source": [
    "print('Predicción y \\t\\t y \\t Error absoluto e_i:')\n",
    "print('-'*50)\n",
    "err = []\n",
    "for i in list(zip(res,y)):\n",
    "    print(i[0],'\\t',i[1],'\\t',i[0]-i[1])\n",
    "    err.append(abs(i[0]-i[1]))"
   ]
  },
  {
   "cell_type": "code",
   "execution_count": 28,
   "id": "c686d966-3101-4e0c-98d2-8ca24a7ff901",
   "metadata": {},
   "outputs": [
    {
     "name": "stdout",
     "output_type": "stream",
     "text": [
      "El error absoluto medio cometido es de : 4.253344422423556 unidades.\n"
     ]
    }
   ],
   "source": [
    "print('El error absoluto medio cometido es de :',sum(err)/len(err),'unidades.')"
   ]
  },
  {
   "cell_type": "code",
   "execution_count": 29,
   "id": "d0e59bc6-7ac2-4e39-8491-c89e3687333f",
   "metadata": {},
   "outputs": [
    {
     "name": "stdout",
     "output_type": "stream",
     "text": [
      "[[0 1]\n",
      " [2 3]\n",
      " [4 5]\n",
      " [6 7]\n",
      " [8 9]]\n"
     ]
    }
   ],
   "source": [
    "#### Predicción con datos nuevos:\n",
    "x_newData = np.arange(10).reshape((-1, 2))\n",
    "print(x_newData)\n",
    "\n",
    "y_new = modelo.predict(x_newData)"
   ]
  },
  {
   "cell_type": "code",
   "execution_count": 30,
   "id": "fb2c31bb-1650-4978-a77e-1120c530679e",
   "metadata": {},
   "outputs": [
    {
     "name": "stdout",
     "output_type": "stream",
     "text": [
      "Respuesta:  [ 5.77760476  7.18179502  8.58598528  9.99017554 11.3943658 ]\n"
     ]
    }
   ],
   "source": [
    "print('Respuesta: ', y_new)"
   ]
  },
  {
   "cell_type": "markdown",
   "id": "ce2244fd-64b2-4d8d-b99b-2e0a12b2b072",
   "metadata": {},
   "source": [
    "## Entrega 2.2<a class=\"anchor\" id=\"first-E\"></a>"
   ]
  },
  {
   "cell_type": "markdown",
   "id": "ed4d287a-3ced-44d3-bf3e-9211f215f9b9",
   "metadata": {},
   "source": [
    "<h3>Polynomial Regression With scikit-learn</h3><a class=\"anchor\" id=\"RP\"></a>\n"
   ]
  },
  {
   "cell_type": "markdown",
   "id": "ad4eb13d-e147-4fac-912b-96e5510fe11d",
   "metadata": {},
   "source": [
    "<h4>Paso 1: Carga de librerías</h4><a class=\"anchor\" id=\"RP-1\"></a>"
   ]
  },
  {
   "cell_type": "code",
   "execution_count": 31,
   "id": "4438de2c-ce25-4727-9b31-500ab68b1b85",
   "metadata": {},
   "outputs": [],
   "source": [
    "# Librerías\n",
    "import numpy as np\n",
    "from sklearn.linear_model import LinearRegression\n",
    "from sklearn.preprocessing import PolynomialFeatures"
   ]
  },
  {
   "cell_type": "markdown",
   "id": "b3b25b9d-e5b0-4dff-988a-40067fb623ed",
   "metadata": {
    "tags": []
   },
   "source": [
    "<h4>Paso 2a: Carga de datos</h4><a class=\"anchor\" id=\"RP-2\"></a>"
   ]
  },
  {
   "cell_type": "code",
   "execution_count": 32,
   "id": "77469944-818a-46ab-a07b-8f662889f94c",
   "metadata": {},
   "outputs": [],
   "source": [
    "# Entradas\n",
    "x = np.array([5, 15, 25, 35, 45, 55]).reshape((-1, 1))\n",
    "# Respuesta / target\n",
    "y = np.array([15, 11, 2, 8, 25, 32])"
   ]
  },
  {
   "cell_type": "markdown",
   "id": "f013aed6-9f4c-47de-82fa-5fc3eed41004",
   "metadata": {},
   "source": [
    "<h4>Paso 2b: Transformación de los datos</h4><a class=\"anchor\" id=\"RP-2\"></a>"
   ]
  },
  {
   "cell_type": "markdown",
   "id": "5a0c6b2a-451c-47b8-96fa-da2e4b4bb8f6",
   "metadata": {},
   "source": [
    "En este tipo de refresión, necesitamos los términos al cuadrado de las variables de entrada, por lo que haremos uso de la función *PolynomialFeatures* para transformar los datos."
   ]
  },
  {
   "cell_type": "code",
   "execution_count": 33,
   "id": "ae746ff2-10b5-41ea-81b1-0899b801f343",
   "metadata": {},
   "outputs": [],
   "source": [
    "transformer = PolynomialFeatures(\n",
    "                        degree=2, # Grado de la transformación\n",
    "                        include_bias=False) # SESGO"
   ]
  },
  {
   "cell_type": "code",
   "execution_count": 34,
   "id": "03169597-d4a6-4356-96e7-ab3961b2b460",
   "metadata": {},
   "outputs": [
    {
     "data": {
      "text/plain": [
       "PolynomialFeatures(include_bias=False)"
      ]
     },
     "execution_count": 34,
     "metadata": {},
     "output_type": "execute_result"
    }
   ],
   "source": [
    "transformer"
   ]
  },
  {
   "cell_type": "code",
   "execution_count": 35,
   "id": "5fa8bcd6-a2d7-4a93-8eac-88c62c4c89df",
   "metadata": {},
   "outputs": [
    {
     "data": {
      "text/plain": [
       "PolynomialFeatures(include_bias=False)"
      ]
     },
     "execution_count": 35,
     "metadata": {},
     "output_type": "execute_result"
    }
   ],
   "source": [
    "transformer.fit(x)"
   ]
  },
  {
   "cell_type": "code",
   "execution_count": 36,
   "id": "edefeaa1-cdb8-4810-ac0e-d8cbce507ffe",
   "metadata": {},
   "outputs": [],
   "source": [
    "x_ = transformer.transform(x) # Aplicamos la transformación al vector de las x"
   ]
  },
  {
   "cell_type": "code",
   "execution_count": 37,
   "id": "217dcb96-f88d-4c6d-8611-f43241b2dee6",
   "metadata": {},
   "outputs": [
    {
     "name": "stdout",
     "output_type": "stream",
     "text": [
      "\t x \t x^2\n"
     ]
    },
    {
     "data": {
      "text/plain": [
       "array([[   5.,   25.],\n",
       "       [  15.,  225.],\n",
       "       [  25.,  625.],\n",
       "       [  35., 1225.],\n",
       "       [  45., 2025.],\n",
       "       [  55., 3025.]])"
      ]
     },
     "execution_count": 37,
     "metadata": {},
     "output_type": "execute_result"
    }
   ],
   "source": [
    "print('\\t x \\t x^2')\n",
    "x_ # Obtenemos el cuadrado de cada x"
   ]
  },
  {
   "cell_type": "code",
   "execution_count": 38,
   "id": "20dce32c-c75b-4e50-bd8f-864a98818f00",
   "metadata": {},
   "outputs": [],
   "source": [
    "x_ = PolynomialFeatures(degree=2, include_bias=False).fit_transform(x) # idem con un solo bloque de códgio"
   ]
  },
  {
   "cell_type": "markdown",
   "id": "adc76a13-21b3-430a-b163-d9460fee0462",
   "metadata": {},
   "source": [
    "<h4>Paso 3: Creación y entrenamiento del modelo</h4><a class=\"anchor\" id=\"RP-3\"></a>"
   ]
  },
  {
   "cell_type": "markdown",
   "id": "47674966-74a0-45c3-af91-101623bd75f6",
   "metadata": {},
   "source": [
    "**Modelo**\n",
    "Nuestro objetivo ahora será estimar el valor de la respuesta en función de las variables independientes a través de una función cuadrática (parábola) de la siguiente forma: \n",
    "\n",
    "<center>$Y = \\beta_0 + \\beta_1 x + \\beta_2 x^2 + \\epsilon$  </center>\n",
    "\n",
    "El objetivo principal será estimar los valores de los coeficientes de regresión $\\beta_0 , \\beta_1 \\text{ y } \\beta_2$ por $\\hat\\beta_0 , \\hat\\beta_1 \\text{ y } \\hat\\beta_2$ de tal modo que se minimicen las distancias a los valores de la respuesta Y, es decir, minimizando la súma de los cuadrados de los resíduos."
   ]
  },
  {
   "cell_type": "code",
   "execution_count": 39,
   "id": "27ce0fe1-adf0-49a2-8019-46768931da7b",
   "metadata": {},
   "outputs": [],
   "source": [
    "modelo = LinearRegression().fit(x_, y)"
   ]
  },
  {
   "cell_type": "markdown",
   "id": "5fe605c9-3565-45dc-bf88-8a0f281c2a38",
   "metadata": {},
   "source": [
    "<h4>Paso 4: Obtención de los resultados</h4><a class=\"anchor\" id=\"RP-4\"></a>"
   ]
  },
  {
   "cell_type": "code",
   "execution_count": 40,
   "id": "4e2c627e-b3c5-491c-aa15-24f9ec155419",
   "metadata": {},
   "outputs": [
    {
     "name": "stdout",
     "output_type": "stream",
     "text": [
      "Coeficiente de determinación: 0.8908516262498564\n",
      "Término independiente: 21.372321428571425\n",
      "Coeficientes: [-1.32357143  0.02839286]\n"
     ]
    }
   ],
   "source": [
    "r_sq_poli = modelo.score(x_, y)\n",
    "print(f\"Coeficiente de determinación: {r_sq_poli}\")\n",
    "\n",
    "\n",
    "print(f\"Término independiente: {modelo.intercept_}\")\n",
    "\n",
    "\n",
    "print(f\"Coeficientes: {modelo.coef_}\")"
   ]
  },
  {
   "cell_type": "markdown",
   "id": "b61795f8-fbed-4243-bf5a-8a2585d079dc",
   "metadata": {},
   "source": [
    "Con estos resultados, podemos afirmar que nuestro modelo explica el 89$\\%$ de la variabilidad de la respuesta Y.\n",
    "\n",
    "La ecuación del modelo ajustado es la siguiente:\n",
    "\n",
    "<center>$\\hat{y}=21.37-1.32 x + 0.028 x^2$</center>"
   ]
  },
  {
   "cell_type": "markdown",
   "id": "4facc35c-7c4b-4cdf-9d7f-2ea12cea869c",
   "metadata": {},
   "source": [
    "Se tiene que los coeficientes que vemos arriba indican lo siguiente:\n",
    "\n",
    "- $\\hat\\beta_0 = 21.37$: Para un valor de x = 0 tenemos que la respuesta tendrá un valor de 21.73\n",
    "- $\\hat\\beta_1=-1.32$: Un aumento en una unidad de la variable x supone una disminución de la respuesta en un valor de 1.32\n",
    "- $\\hat\\beta_2=0.028$: Un aumento en una unidad de la variable x se traduce en un aumento de la respuesta en un valor de 0.028, a penas afecta en la respuesta\n"
   ]
  },
  {
   "cell_type": "markdown",
   "id": "991b65fe-bcec-4ed9-a5a2-99d4313d6d33",
   "metadata": {},
   "source": [
    "<h4>Paso 5: Predicciones</h4><a class=\"anchor\" id=\"RP-5\"></a>"
   ]
  },
  {
   "cell_type": "code",
   "execution_count": 41,
   "id": "09c583e8-c158-43e5-8cb5-db7c8ae9604e",
   "metadata": {},
   "outputs": [
    {
     "name": "stdout",
     "output_type": "stream",
     "text": [
      "Predicción :\n",
      "[15.46428571  7.90714286  6.02857143  9.82857143 19.30714286 34.46428571]\n"
     ]
    }
   ],
   "source": [
    "y_pred = modelo.predict(x_)\n",
    "print(f\"Predicción :\\n{y_pred}\")"
   ]
  },
  {
   "cell_type": "code",
   "execution_count": 42,
   "id": "496d8ea1-b827-4260-b740-6cea5572f713",
   "metadata": {},
   "outputs": [
    {
     "name": "stdout",
     "output_type": "stream",
     "text": [
      "Predicción y \t\t y \t Error absoluto e_i:\n",
      "--------------------------------------------------\n",
      "15.464285714285712 \t 15 \t 0.46428571428571175\n",
      "7.907142857142855 \t 11 \t -3.092857142857145\n",
      "6.028571428571421 \t 2 \t 4.028571428571421\n",
      "9.828571428571415 \t 8 \t 1.828571428571415\n",
      "19.307142857142843 \t 25 \t -5.692857142857157\n",
      "34.464285714285694 \t 32 \t 2.464285714285694\n"
     ]
    }
   ],
   "source": [
    "print('Predicción y \\t\\t y \\t Error absoluto e_i:')\n",
    "print('-'*50)\n",
    "err = []\n",
    "for i in list(zip(y_pred,y)):\n",
    "    print(i[0],'\\t',i[1],'\\t',i[0]-i[1])\n",
    "    err.append(abs(i[0]-i[1]))"
   ]
  },
  {
   "cell_type": "markdown",
   "id": "a1c451c2-58f6-4457-a37e-aff02115a1d7",
   "metadata": {},
   "source": [
    "</h4>Ejemplo con mayor número de variables</h4>"
   ]
  },
  {
   "cell_type": "code",
   "execution_count": 43,
   "id": "058b2f3f-3250-43a1-adc0-579c573e8938",
   "metadata": {},
   "outputs": [
    {
     "name": "stdout",
     "output_type": "stream",
     "text": [
      "Datos\n",
      "x:\n",
      " [[ 0  1]\n",
      " [ 5  1]\n",
      " [15  2]\n",
      " [25  5]\n",
      " [35 11]\n",
      " [45 15]\n",
      " [55 34]\n",
      " [60 35]] \n",
      "\n",
      "y:\n",
      " [ 4  5 20 14 32 22 38 43]\n",
      "\n",
      "Transformación de los datos\n",
      "\n",
      "\tx1\tx2\tx1^2\t x1x2\t\t x2^2\n",
      "[[0.000e+00 1.000e+00 0.000e+00 0.000e+00 1.000e+00]\n",
      " [5.000e+00 1.000e+00 2.500e+01 5.000e+00 1.000e+00]\n",
      " [1.500e+01 2.000e+00 2.250e+02 3.000e+01 4.000e+00]\n",
      " [2.500e+01 5.000e+00 6.250e+02 1.250e+02 2.500e+01]\n",
      " [3.500e+01 1.100e+01 1.225e+03 3.850e+02 1.210e+02]\n",
      " [4.500e+01 1.500e+01 2.025e+03 6.750e+02 2.250e+02]\n",
      " [5.500e+01 3.400e+01 3.025e+03 1.870e+03 1.156e+03]\n",
      " [6.000e+01 3.500e+01 3.600e+03 2.100e+03 1.225e+03]]\n",
      "\n",
      "Modelo\n",
      "\n",
      "LinearRegression()\n",
      "\n",
      "Métricas\n",
      "\n",
      "El modelo explica un  94.54 % de la variabilidad total de la respuesta Y.\n",
      "Coeficientes del modelo:\n",
      "\t-Término independiente: 0.8430556452395734 \n",
      "\t-Coeficientes beta: [ 2.44828275  0.16160353 -0.15259677  0.47928683 -0.4641851 ]\n",
      "\n",
      "Predicciones\n",
      "\n",
      "Predicción y \t\t y \n",
      "------------------------------\n",
      "0.5404740795478036 \t 4\n",
      "11.36340283393609 \t 5\n",
      "16.078096218033522 \t 20\n",
      "15.791390002792774 \t 14\n",
      "29.738586188197516 \t 32\n",
      "23.50834636450721 \t 22\n",
      "39.05631385576736 \t 38\n",
      "41.92339045721779 \t 43\n"
     ]
    }
   ],
   "source": [
    "# Paso 1: paquetes y librerías\n",
    "import numpy as np\n",
    "from sklearn.linear_model import LinearRegression\n",
    "from sklearn.preprocessing import PolynomialFeatures\n",
    "# Paso 2a: Datos\n",
    "print('Datos')\n",
    "x = [[0, 1], [5, 1], [15, 2], [25, 5], [35, 11], [45, 15], [55, 34], [60, 35]]\n",
    "y = [4, 5, 20, 14, 32, 22, 38, 43]\n",
    "x, y = np.array(x), np.array(y)\n",
    "print('x:\\n',x,'\\n\\ny:\\n',y)\n",
    "# Paso 2b: Transformación de los datos\n",
    "print('\\nTransformación de los datos\\n')\n",
    "print('\\tx1\\tx2\\tx1^2\\t x1x2\\t\\t x2^2')\n",
    "x_ = PolynomialFeatures(degree=2, include_bias=False).fit_transform(x) # Polinomios de grado 2 y transformamos a entrada polinómica con fit_trans\n",
    "print(x_)\n",
    "# Paso 3: Creación del modelo y entrenamiento\n",
    "print('\\nModelo\\n')\n",
    "model = LinearRegression().fit(x_, y)\n",
    "print(modelo)\n",
    "# Paso 4: Resultados, métricas y coeficientes del modelo\n",
    "print('\\nMétricas')\n",
    "r_sq_poli2 = model.score(x_, y)\n",
    "print('\\nEl modelo explica un ',round(100*r_sq_poli2,2),'% de la variabilidad total de la respuesta Y.')\n",
    "intercept, coefficients = model.intercept_, model.coef_\n",
    "print('Coeficientes del modelo:')\n",
    "print('\\t-Término independiente:',intercept,'\\n\\t-Coeficientes beta:' ,coefficients)\n",
    "# Paso 5: Predicción de la respuesta\n",
    "y_pred = model.predict(x_)\n",
    "print('\\nPredicciones')\n",
    "print('\\nPredicción y \\t\\t y ')\n",
    "print('-'*30)\n",
    "for i in list(zip(y_pred,y)):\n",
    "    print(i[0],'\\t',i[1])"
   ]
  },
  {
   "cell_type": "markdown",
   "id": "4f862a09-7b78-45e1-92a2-7164800d01b4",
   "metadata": {},
   "source": [
    "La estimación de los coeficientes del modelo es la siguiente:\n",
    "\n",
    "- $\\beta_0=0.84$\n",
    "- $\\beta_1=2.44$\n",
    "- $\\beta_2=0.16$\n",
    "- $\\beta_3=-0.15$\n",
    "- $\\beta_4=0.47$\n",
    "- $\\beta_5=-0.46$\n",
    "\n",
    "Por tanto, obtenemos la siguiente función: $f(x_1,x_2)=\\beta_0+\\beta_1 x_1+\\beta_2 x_2+\\beta_3 x_1^2+\\beta_4 x_1x_2+\\beta_5 x_2^2=0.84+2.44 x_1+0.16 x_2-0.15 x_1^2+0.47 x_1x_2-0.46 x_2^2$"
   ]
  },
  {
   "cell_type": "markdown",
   "id": "ad2ff0b7-62fc-4312-963b-ac99f7696c80",
   "metadata": {},
   "source": [
    "Observando los resultados, parece que el modelo tiende a predecir mejor la respuesta cuando es un valor más alto, ya que el error cometido es bastante mayor para valores bajos de Y."
   ]
  },
  {
   "cell_type": "markdown",
   "id": "ce94ae64-476c-4b82-8764-95e440818273",
   "metadata": {},
   "source": [
    "<h3>Advanced Linear Regression With statsmodels</h3><a class=\"anchor\" id=\"SM\"></a>\n",
    "\n",
    "Vamos a crear un modelo de regresión lineal múltiple haciendo uso de la librería *statsmodels*. El modelo será el siguiente:\n",
    "\n",
    "<center>$f(x_1,x_2)=\\beta_0+\\beta_1 x_1+\\beta_2 x_2$</center>\n",
    "Trataremos de crear el modelo de regresión para estimar los valores de estos coeficientes $\\beta$ y poder realizar predicciones."
   ]
  },
  {
   "cell_type": "markdown",
   "id": "4c326b1d-38d0-4127-826d-66b11fe6480a",
   "metadata": {},
   "source": [
    "<h4>Paso 1: Importación y carga de librerías</h4><a class=\"anchor\" id=\"SM-1\"></a>"
   ]
  },
  {
   "cell_type": "code",
   "execution_count": 44,
   "id": "3788eb22-19ba-4094-aa21-6c0cb50e86b2",
   "metadata": {},
   "outputs": [],
   "source": [
    "# Librerías\n",
    "import numpy as np\n",
    "import statsmodels.api as sm"
   ]
  },
  {
   "cell_type": "markdown",
   "id": "794d7506-b8c6-4d55-88a4-22a245c6472c",
   "metadata": {},
   "source": [
    "<h4>Paso 2: Carga de datos</h4><a class=\"anchor\" id=\"SM-2\"></a>"
   ]
  },
  {
   "cell_type": "code",
   "execution_count": 45,
   "id": "a7362d74-b3f9-4a89-a937-28a91e546920",
   "metadata": {},
   "outputs": [],
   "source": [
    "x = [\n",
    "  [0, 1], [5, 1], [15, 2], [25, 5], [35, 11], [45, 15], [55, 34], [60, 35]\n",
    "]\n",
    "y = [4, 5, 20, 14, 32, 22, 38, 43]\n",
    "x, y = np.array(x), np.array(y)"
   ]
  },
  {
   "cell_type": "markdown",
   "id": "42129666-c793-475c-b841-bbc552d0f3d2",
   "metadata": {},
   "source": [
    "Para calcular el término independiente $\\beta_0$ con la librería statsmodels es necesario añadir al array con la X un vector con unos de la siguiente forma:"
   ]
  },
  {
   "cell_type": "code",
   "execution_count": 46,
   "id": "d65e2a83-156f-4824-b172-a7986f03fca0",
   "metadata": {},
   "outputs": [
    {
     "name": "stdout",
     "output_type": "stream",
     "text": [
      "x:\n",
      " [[ 1.  0.  1.]\n",
      " [ 1.  5.  1.]\n",
      " [ 1. 15.  2.]\n",
      " [ 1. 25.  5.]\n",
      " [ 1. 35. 11.]\n",
      " [ 1. 45. 15.]\n",
      " [ 1. 55. 34.]\n",
      " [ 1. 60. 35.]] \n",
      "y:\n",
      " [ 4  5 20 14 32 22 38 43]\n"
     ]
    }
   ],
   "source": [
    "x = sm.add_constant(x)\n",
    "print('x:\\n',x,'\\ny:\\n',y)"
   ]
  },
  {
   "cell_type": "markdown",
   "id": "16186399-9f14-4193-8061-08b9596e543f",
   "metadata": {},
   "source": [
    "Tenemos dos variables independientes $x_1$ y $x_2$ además del vector de unos para calcular término independiente del modelo.\n",
    "<h4>Paso 3: Creación y entrenamiento del modelo</h4><a class=\"anchor\" id=\"SM-3\"></a>"
   ]
  },
  {
   "cell_type": "code",
   "execution_count": 47,
   "id": "dc748740-0fba-4daf-8e5a-fa2f472427f0",
   "metadata": {},
   "outputs": [],
   "source": [
    "modelo_4 = sm.OLS(y, x) # creo el modelo"
   ]
  },
  {
   "cell_type": "markdown",
   "id": "faedd3c2-ca3b-42d4-8c86-257efc9fc475",
   "metadata": {},
   "source": [
    "La función *OLS* calculará los parámetros del modelo de regresión lineal basándose en el criterio de mínimos cuadrados."
   ]
  },
  {
   "cell_type": "code",
   "execution_count": 48,
   "id": "e0b3abab-94bf-4467-9a74-0b20a40cf8f2",
   "metadata": {},
   "outputs": [],
   "source": [
    "results4 = modelo_4.fit() # entrenamiento del modelo"
   ]
  },
  {
   "cell_type": "markdown",
   "id": "c7427de2-5707-435a-b7b4-3d4affe7c5e6",
   "metadata": {},
   "source": [
    "<h4>Paso 4: Resultados del modelado</h4><a class=\"anchor\" id=\"SM-4\"></a>"
   ]
  },
  {
   "cell_type": "code",
   "execution_count": 49,
   "id": "f7c3b943-c68c-4579-8a13-26dd03dad542",
   "metadata": {},
   "outputs": [
    {
     "name": "stdout",
     "output_type": "stream",
     "text": [
      "Resultados del modelo:\n",
      "\n",
      "                            OLS Regression Results                            \n",
      "==============================================================================\n",
      "Dep. Variable:                      y   R-squared:                       0.862\n",
      "Model:                            OLS   Adj. R-squared:                  0.806\n",
      "Method:                 Least Squares   F-statistic:                     15.56\n",
      "Date:                Wed, 16 Nov 2022   Prob (F-statistic):            0.00713\n",
      "Time:                        19:43:11   Log-Likelihood:                -24.316\n",
      "No. Observations:                   8   AIC:                             54.63\n",
      "Df Residuals:                       5   BIC:                             54.87\n",
      "Df Model:                           2                                         \n",
      "Covariance Type:            nonrobust                                         \n",
      "==============================================================================\n",
      "                 coef    std err          t      P>|t|      [0.025      0.975]\n",
      "------------------------------------------------------------------------------\n",
      "const          5.5226      4.431      1.246      0.268      -5.867      16.912\n",
      "x1             0.4471      0.285      1.567      0.178      -0.286       1.180\n",
      "x2             0.2550      0.453      0.563      0.598      -0.910       1.420\n",
      "==============================================================================\n",
      "Omnibus:                        0.561   Durbin-Watson:                   3.268\n",
      "Prob(Omnibus):                  0.755   Jarque-Bera (JB):                0.534\n",
      "Skew:                           0.380   Prob(JB):                        0.766\n",
      "Kurtosis:                       1.987   Cond. No.                         80.1\n",
      "==============================================================================\n",
      "\n",
      "Notes:\n",
      "[1] Standard Errors assume that the covariance matrix of the errors is correctly specified.\n"
     ]
    },
    {
     "name": "stderr",
     "output_type": "stream",
     "text": [
      "/opt/anaconda3/lib/python3.8/site-packages/scipy/stats/stats.py:1603: UserWarning: kurtosistest only valid for n>=20 ... continuing anyway, n=8\n",
      "  warnings.warn(\"kurtosistest only valid for n>=20 ... continuing \"\n"
     ]
    }
   ],
   "source": [
    "print('Resultados del modelo:\\n')\n",
    "print(results4.summary())"
   ]
  },
  {
   "cell_type": "markdown",
   "id": "1eaa32df-a1d5-4b7b-87d3-bac3444ed569",
   "metadata": {},
   "source": [
    "Esta tabla nos proporciona mucha información acerca del modelo y repasaremos ahora los aspectos más importantes de éste.\n",
    "\n",
    "- **Coeficiente de correónlaci**: $R^2=0.862$, es decir, el modelo explica un 86.2% de la variabilidad total de la respuesta Y\n",
    "- **Resultados del test-F**, donde contrastamos la siguiente hipótesis nula: $H_0: \\beta_0=\\beta_1=\\beta_2=0$. El p-valor del test es $0.00713<\\alpha=0.05$, concluyendo así que no existen evidencias significativas para afirmar que los coeficientes son nulos, rechazamos la hipótesis nula a favor de la alternativa: $H_1 : \\exists i \\setminus \\beta_i \\neq 0 \\quad \\forall i = 0,1,2$\n",
    "- **AIC, BIC**: Respectivamente, criterio de información de Akaike y criterio de información Bayesiano. Si tuvieramos otro modelo, podriamos comparar estos valores con el valor correspondiente del mismo criterio en el otro modelo y así poder seleccionar el mejor modelo, que será aquel con un valor de AIC o BIC (en función del criterio elegido) más bajo.\n",
    "- **Término independiente**: $\\beta_0 = 5.22$, es decir, si $x_1 = x_2 = 0$ el valor de la respuesta $Y=5.22$\n",
    "- **$\\beta_1=0.45$**: Un aumento de la variable $x_1$ en una unidad, manteniendo el resto de variables constantes, haría que la respuesta incrementara en un valor de 0.45 \n",
    "- **$\\beta_2=0.25$**: Un aumento de la variable $x_2$ en una unidad, manteniendo el resto de variables constantes, haría que la respuesta incrementara en un valor de 0.25 \n",
    "\n",
    "- **Contrastes individuales sobre los coeficientes**: En la columna $P>|t|$ podemos ver los valores de los p-valores de cada contraste individual. \n",
    "Los contrastes sirven para averiguar que variables son significativas en el modelo a la hora de explicar el valor de y. Los contrastes realizados son los siguientes:\n",
    "<center>$\\left\\{\n",
    "\\begin{array}{ll}\n",
    "H_{0}: &  \\beta_i = 0 \\quad \\forall i=0,1,2\\\\\n",
    "H_{1}: & \\beta_i \\neq 0\n",
    "\\end{array}\n",
    "\\right.$</center>\n",
    "Como podemos ver, en los tres casos se cumple que $p-valor_i > \\alpha = 0.05, \\quad \\forall i = 0,1,2$ y por tanto, podemos concluir que no existen evidencias significativas para afirmar que los coeficientes $\\beta_i \\neq 0$, es decir, ninguna de las variables explica el valor de la respuesta y.ás,\n",
    "Además, en los tres casos encontramos que el intervalo de confianza incluye al 0, y por tanto, en caso de ser el coeficiente significativo, habría que sacarlo del modelo."
   ]
  },
  {
   "cell_type": "markdown",
   "id": "34a6c10e-2541-4fc8-9379-0ec4d79ceb03",
   "metadata": {},
   "source": [
    "**Nota importante**: Los resultados obtenidos de este modelo eran esperables, ya que tenemos muy pocos valores de entrada y por tanto, estadísticamente el modelo no tiene sentido, ha sido creado únicamente para ilustrar el modelo de regresión lineal múltiple.\n",
    "\n",
    "Vamos ahora a extraer los paráametros de interés del modelo:"
   ]
  },
  {
   "cell_type": "code",
   "execution_count": 50,
   "id": "e208cd3e-55c2-4e69-92bd-abddabc7fa51",
   "metadata": {},
   "outputs": [
    {
     "name": "stdout",
     "output_type": "stream",
     "text": [
      "Coeficiente de determinación: 0.8615939258756777\n",
      "Coeficiente de determinación ajustado: 0.8062314962259488\n",
      "Coeficientes de regresión: [5.52257928 0.44706965 0.25502548]\n"
     ]
    }
   ],
   "source": [
    "print(f\"Coeficiente de determinación: {results4.rsquared}\")\n",
    "\n",
    "\n",
    "print(f\"Coeficiente de determinación ajustado: {results4.rsquared_adj}\")\n",
    "\n",
    "\n",
    "print(f\"Coeficientes de regresión: {results4.params}\")"
   ]
  },
  {
   "cell_type": "markdown",
   "id": "388d1a32-869f-4ab4-b5a1-fc613d796cba",
   "metadata": {},
   "source": [
    "También podemos obtener predicciones para datos nuevos con el modelo entrenado:"
   ]
  },
  {
   "cell_type": "code",
   "execution_count": 51,
   "id": "b32158fd-08eb-4495-b999-1ac10cd21f49",
   "metadata": {},
   "outputs": [
    {
     "name": "stdout",
     "output_type": "stream",
     "text": [
      "Valores de entrada, X:\n",
      "[[1. 0. 1.]\n",
      " [1. 2. 3.]\n",
      " [1. 4. 5.]\n",
      " [1. 6. 7.]\n",
      " [1. 8. 9.]]\n",
      "\n",
      "Predicción de la respuesta,y:\n",
      "[ 5.77760476  7.18179502  8.58598528  9.99017554 11.3943658 ]\n"
     ]
    }
   ],
   "source": [
    "x_new4 = sm.add_constant(np.arange(10).reshape((-1, 2)))\n",
    "print('Valores de entrada, X:')\n",
    "print(x_new4)\n",
    "y_new4 = results4.predict(x_new4)\n",
    "print('\\nPredicción de la respuesta,y:')\n",
    "print(y_new4)"
   ]
  },
  {
   "cell_type": "markdown",
   "id": "b0eb1adc-b0b2-4dbe-b7db-1a3d13204545",
   "metadata": {},
   "source": [
    "<h2>Ejemplos de regresión lineal</h2><a class=\"anchor\" id=\"EJ\"></a>\n",
    "\n",
    "<h3>Caso 1: Regresión lineal simple</h3><a class=\"anchor\" id=\"EJ-1\"></a>\n",
    "\n",
    "\n",
    "- **Objetivo**: Estimar la nota de un alumno en función de las horas de estudio de éste\n",
    "\n",
    "- **Variable independiente, X**: Número de horas de estudio (numérica)\n",
    "- **Variable objetivo o respuesta, Y**: Nota numérica del alumno\n",
    "\n",
    "- **Modelo**: $Y=\\beta_0 + \\beta_1 x_1 + \\epsilon \\longrightarrow Nota=\\beta_0 + \\beta_1 Horas_estudio  + \\epsilon$ \n",
    "\n",
    "<h3>Caso 2: Regresión lineal múltiple</h3><a class=\"anchor\" id=\"EJ-2\"></a>\n",
    "\n",
    "- **Objetivo**: Estimar la densidad de una especie de parásitos a partir de diferentes variables: temperatura y humedad.\n",
    "\n",
    "- **Variables independientes, X1 y X2**: temperatura en celsius (numérica) y % de humedad  (numérica)\n",
    "- **Variable objetivo o respuesta, Y**: Número de parásitos \n",
    "\n",
    "- **Modelo**: $Y=\\beta_0 + \\beta_1 x_1 + \\beta_2 x_2 + \\epsilon \\longrightarrow Num insectos=\\beta_0 + \\beta_1 Temperatura + \\beta_2 Humedad + \\epsilon$ \n",
    "\n",
    "<h3> Caso 3: Regresión lineal polinómica</h3><a class=\"anchor\" id=\"EJ-3\"></a>\n",
    "\n",
    "- **Objetivo**: Estimar el salario en función de la edad\n",
    "\n",
    "- **Variable independiente, X**: Edad (numérica, continua)\n",
    "- **Variable objetivo o respuesta, Y**: Salario\n",
    "\n",
    "- **Modelo**: $Y=\\beta_0 + \\beta_1 x + \\beta_2 x^2 + \\epsilon \\longrightarrow Salario=\\beta_0 + \\beta_1 Edad + \\beta_2 Edad^2  + \\epsilon$ "
   ]
  }
 ],
 "metadata": {
  "kernelspec": {
   "display_name": "Python 3",
   "language": "python",
   "name": "python3"
  },
  "language_info": {
   "codemirror_mode": {
    "name": "ipython",
    "version": 3
   },
   "file_extension": ".py",
   "mimetype": "text/x-python",
   "name": "python",
   "nbconvert_exporter": "python",
   "pygments_lexer": "ipython3",
   "version": "3.8.2"
  }
 },
 "nbformat": 4,
 "nbformat_minor": 5
}
