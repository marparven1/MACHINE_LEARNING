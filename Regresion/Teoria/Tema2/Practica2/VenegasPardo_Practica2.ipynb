{
 "cells": [
  {
   "cell_type": "markdown",
   "id": "5cdd3917-5261-4f4e-9128-a71005c3ab63",
   "metadata": {},
   "source": [
    "# Aprendizaje automático. Práctica 2\n",
    "## Marta Venegas Pardo"
   ]
  },
  {
   "cell_type": "markdown",
   "id": "66d12c40-5231-487a-92f5-ac4272770a32",
   "metadata": {},
   "source": [
    "## Entrega 2.1"
   ]
  },
  {
   "cell_type": "markdown",
   "id": "f831fc40-f049-4119-a6b5-5cb63642167a",
   "metadata": {},
   "source": [
    "### Simple Linear Regression- Regresión lineal simple"
   ]
  },
  {
   "cell_type": "markdown",
   "id": "b2f83370-0a75-40d6-9767-11a03d67f805",
   "metadata": {},
   "source": [
    "#### Paso 1: Instalación de librerías"
   ]
  },
  {
   "cell_type": "code",
   "execution_count": 3,
   "id": "b92c7d8d-8b6a-4760-824f-6d3f43fd88f7",
   "metadata": {},
   "outputs": [],
   "source": [
    "## Instalación de librerías\n",
    "import numpy as np \n",
    "import pandas as pd\n",
    "# import sklearn\n",
    "# Modelo de regresión lineal\n",
    "from sklearn.linear_model import LinearRegression\n",
    "# Gráficas\n",
    "import matplotlib.pyplot as plt"
   ]
  },
  {
   "cell_type": "code",
   "execution_count": 4,
   "id": "6b2a8f09-d2f9-4761-96fd-be873b29bfd9",
   "metadata": {},
   "outputs": [],
   "source": [
    "# LinearRegression: fit_intercept, normalize"
   ]
  },
  {
   "cell_type": "markdown",
   "id": "09635117-d533-4a8a-a0a9-aea93a3653d9",
   "metadata": {},
   "source": [
    "#### Paso 2: Carga de datos"
   ]
  },
  {
   "cell_type": "code",
   "execution_count": 5,
   "id": "8fab133b-ecb8-4770-a644-07d884c1746b",
   "metadata": {},
   "outputs": [],
   "source": [
    "x = np.array([5, 15, 25, 35, 45, 55]).reshape((-1, 1)) # Variable explicativa\n",
    "y = np.array([5, 20, 14, 32, 22, 38]) # Variable objetivo/respuesta"
   ]
  },
  {
   "cell_type": "code",
   "execution_count": 6,
   "id": "54be9b0d-aba8-44e1-9d24-78d0ca1a7db4",
   "metadata": {},
   "outputs": [
    {
     "name": "stdout",
     "output_type": "stream",
     "text": [
      "Regresor,x:\n",
      " [[ 5]\n",
      " [15]\n",
      " [25]\n",
      " [35]\n",
      " [45]\n",
      " [55]] \n",
      "Dimensiones:  (6, 1) \n",
      "\n",
      "Respuesta,y:\n",
      " [ 5 20 14 32 22 38] \n",
      "Dimensiones: (6,)\n"
     ]
    }
   ],
   "source": [
    "print('Regresor,x:\\n',x,'\\nDimensiones: ',x.shape,'\\n\\nRespuesta,y:\\n',y,'\\nDimensiones:',y.shape)"
   ]
  },
  {
   "cell_type": "markdown",
   "id": "e3f5ad18-eea6-4c3b-bc02-928a525f42c7",
   "metadata": {},
   "source": [
    "#### Paso 3: Creación del modelo y ajuste"
   ]
  },
  {
   "cell_type": "code",
   "execution_count": 7,
   "id": "180e4700-122c-43cb-9804-9ad2d871f987",
   "metadata": {},
   "outputs": [],
   "source": [
    "# Definición del modelo\n",
    "modelo = LinearRegression() # No añadimos hiperparámetros (fit_intercept: t independiente beta0, normalize: normalizar datos, n_jobs)"
   ]
  },
  {
   "cell_type": "code",
   "execution_count": 8,
   "id": "40929837-464a-436c-90e1-4af5d0d2ab28",
   "metadata": {},
   "outputs": [
    {
     "data": {
      "text/plain": [
       "LinearRegression()"
      ]
     },
     "execution_count": 8,
     "metadata": {},
     "output_type": "execute_result"
    }
   ],
   "source": [
    "# Ajuste del modelo\n",
    "modelo.fit(x,y) "
   ]
  },
  {
   "cell_type": "markdown",
   "id": "4498149b-5f21-4bce-b71e-c2add9258ce6",
   "metadata": {},
   "source": [
    "Con el argumento *.fit* estamos calculando los la estimaación de los coeficientes de regresión $\\beta_0$ y $\\beta_1$, obteniendo así $\\hat\\beta_0$ y $\\hat\\beta_1$ . \n",
    "\n",
    "Es decir, la ecuación de regresión linear simple es la siguiente:\n",
    "\n",
    "<center>$ Y = \\beta_0 + \\beta_1 x + \\epsilon$</center>\n",
    "\n",
    "Y en el caso de la estimación:\n",
    "\n",
    "<center>$\\hat y = \\hat\\beta_0 + \\hat\\beta_1 x$</center>"
   ]
  },
  {
   "cell_type": "code",
   "execution_count": 9,
   "id": "d6fdfed3-3e30-4ef5-9aa9-e851b694642a",
   "metadata": {},
   "outputs": [],
   "source": [
    "# Otra forma más rápida:\n",
    "model = LinearRegression().fit(x, y)"
   ]
  },
  {
   "cell_type": "markdown",
   "id": "72b1f6c6-4c56-460a-841d-d711a5fdf7f9",
   "metadata": {},
   "source": [
    "#### Paso 4: Obtención de los resultados"
   ]
  },
  {
   "cell_type": "code",
   "execution_count": 10,
   "id": "a1942622-ed6f-4f25-97e2-66e68e0dbb5d",
   "metadata": {},
   "outputs": [
    {
     "name": "stdout",
     "output_type": "stream",
     "text": [
      "Coeficiente de determinación: 0.715875613747954\n"
     ]
    }
   ],
   "source": [
    "r_sq = model.score(x, y)\n",
    "print(f\"Coeficiente de determinación: {r_sq}\")"
   ]
  },
  {
   "cell_type": "markdown",
   "id": "664f6219-2499-497f-ac65-fd056556d6d7",
   "metadata": {},
   "source": [
    "Este coeficiente es una medida de la bondad de ajuste del modelo, en otras palabras, se trata de una medida de la bondad de ajuste de la recta a los datos. Se tiene que $R^2  = 0.716$, es decir, el modelo (la recta) explica casi un $72\\%$ de la varaibilidad total de la variable respuesta."
   ]
  },
  {
   "cell_type": "markdown",
   "id": "1cf6f8b2-b00c-4da6-826f-64b38b19864e",
   "metadata": {},
   "source": [
    "Los coeficientes del modelo son los siguientes:"
   ]
  },
  {
   "cell_type": "code",
   "execution_count": 11,
   "id": "7b493439-16b4-4619-b9d8-bec22ff4ddd9",
   "metadata": {},
   "outputs": [
    {
     "name": "stdout",
     "output_type": "stream",
     "text": [
      "intercept: 5.633333333333329\n",
      "slope: [0.54]\n"
     ]
    }
   ],
   "source": [
    "print(f\"intercept: {modelo.intercept_}\") # Intercept es un número\n",
    "\n",
    "print(f\"slope: {modelo.coef_}\") # Slope es un array"
   ]
  },
  {
   "cell_type": "markdown",
   "id": "ac313c99-84c9-4544-ba3a-0ce9ae48c811",
   "metadata": {},
   "source": [
    "Y por tanto, la ecuación de la recta de regresión es la siguiente: \n",
    "<center>$\\hat y = 5,63+0,54x$</center>\n",
    "\n",
    "Se tiene que: \n",
    "\n",
    "- El valor de $\\beta_0 = 5,63$ indica que la varaible respuesta es 5,63 cuando $x=0$\n",
    "- $\\beta_0 = 0,54$ significa que el valor de y aumenta 0,54 cuando x aumenta en una unidad."
   ]
  },
  {
   "cell_type": "markdown",
   "id": "35021d6e-0435-409a-a99e-44f255ac4dab",
   "metadata": {},
   "source": [
    "Ahora vamos a introducir $y$ como un array bidimensional, al igual que $x$, obteniendo así el mismo modelo:"
   ]
  },
  {
   "cell_type": "code",
   "execution_count": 12,
   "id": "3361fb29-d906-4689-9642-bba76555ff0f",
   "metadata": {},
   "outputs": [
    {
     "name": "stdout",
     "output_type": "stream",
     "text": [
      "intercept: [5.63333333]\n",
      "slope: [[0.54]]\n"
     ]
    }
   ],
   "source": [
    "Modelo2 = LinearRegression().fit(x, y.reshape((-1, 1)))\n",
    "print(f\"intercept: {Modelo2.intercept_}\")\n",
    "\n",
    "print(f\"slope: {Modelo2.coef_}\")\n",
    "\n",
    "# Son ambos arrays (unidimensional y bidimensional, respectivamente)"
   ]
  },
  {
   "cell_type": "markdown",
   "id": "7d98d99e-b4f2-4304-8ca0-0e5619409423",
   "metadata": {},
   "source": [
    "#### Paso 5: Cálculo de predicciones"
   ]
  },
  {
   "cell_type": "code",
   "execution_count": 13,
   "id": "a6a91a9d-aebe-4cd5-b3d6-b0a4fb5c14ec",
   "metadata": {},
   "outputs": [
    {
     "name": "stdout",
     "output_type": "stream",
     "text": [
      "Predicciones:\n",
      "[ 8.33333333 13.73333333 19.13333333 24.53333333 29.93333333 35.33333333]\n"
     ]
    }
   ],
   "source": [
    "y_pred = modelo.predict(x)\n",
    "print(f\"Predicciones:\\n{y_pred}\") # Array unidimensional"
   ]
  },
  {
   "cell_type": "markdown",
   "id": "5c4525fd-2cf9-43bc-944e-e2bc2cb499e0",
   "metadata": {},
   "source": [
    "Otra manera de realizar predicciones es sustituyendo los valores en la recta de regresión calculada, como vemos a continuación."
   ]
  },
  {
   "cell_type": "code",
   "execution_count": 14,
   "id": "2daa38aa-85f7-424d-98f0-567d48287c97",
   "metadata": {},
   "outputs": [
    {
     "name": "stdout",
     "output_type": "stream",
     "text": [
      "Respuesta:\n",
      "[[ 8.33333333]\n",
      " [13.73333333]\n",
      " [19.13333333]\n",
      " [24.53333333]\n",
      " [29.93333333]\n",
      " [35.33333333]]\n"
     ]
    }
   ],
   "source": [
    "# Otra forma, utilizando beta0 y beta1\n",
    "\n",
    "y_pred = modelo.intercept_ + modelo.coef_ * x\n",
    "print(f\"Respuesta:\\n{y_pred}\") # Array bidimensional "
   ]
  },
  {
   "cell_type": "code",
   "execution_count": 17,
   "id": "be56f7a6-f1d4-481d-a74c-f855fc36c088",
   "metadata": {},
   "outputs": [
    {
     "name": "stdout",
     "output_type": "stream",
     "text": [
      "Respuesta:\n",
      "[ 8.33333333 13.73333333 19.13333333 24.53333333 29.93333333 35.33333333]\n"
     ]
    }
   ],
   "source": [
    "# Otra forma, utilizando beta0 y beta1\n",
    "\n",
    "y_pred = modelo.intercept_ + modelo.coef_ *  x.flatten()\n",
    "print(f\"Respuesta:\\n{y_pred}\") # Array bidimensional "
   ]
  },
  {
   "cell_type": "markdown",
   "id": "971b48ec-af60-4f33-bb13-976a86400b56",
   "metadata": {},
   "source": [
    "Vamos ahora a utilizar el modelo en datos nuevos para así predecir el valor de Y para cada valor de x."
   ]
  },
  {
   "cell_type": "code",
   "execution_count": 49,
   "id": "c2acaafd-ef07-4708-bb2d-8fb05e141cab",
   "metadata": {},
   "outputs": [
    {
     "data": {
      "text/plain": [
       "array([[0],\n",
       "       [1],\n",
       "       [2],\n",
       "       [3],\n",
       "       [4]])"
      ]
     },
     "execution_count": 49,
     "metadata": {},
     "output_type": "execute_result"
    }
   ],
   "source": [
    "x_new = np.arange(5).reshape((-1, 1))\n",
    "x_new"
   ]
  },
  {
   "cell_type": "markdown",
   "id": "f376dbe1-d006-4061-8bf4-0c1995a0a3f6",
   "metadata": {},
   "source": [
    "Los valores de Y para estos valores de X son:"
   ]
  },
  {
   "cell_type": "code",
   "execution_count": 50,
   "id": "47eb3d31-5ad9-41a9-8a91-583adcc5d0e9",
   "metadata": {},
   "outputs": [
    {
     "data": {
      "text/plain": [
       "array([5.63333333, 6.17333333, 6.71333333, 7.25333333, 7.79333333])"
      ]
     },
     "execution_count": 50,
     "metadata": {},
     "output_type": "execute_result"
    }
   ],
   "source": [
    "y_new = model.predict(x_new)\n",
    "y_new"
   ]
  },
  {
   "cell_type": "code",
   "execution_count": 51,
   "id": "bdd0931b-b57b-4c26-81d7-1e88ffdc83f6",
   "metadata": {},
   "outputs": [],
   "source": [
    "x_new = x_new.ravel().tolist()\n",
    "lista = list(zip(x_new,y_new))"
   ]
  },
  {
   "cell_type": "code",
   "execution_count": 60,
   "id": "80061598-3d85-4d16-9f13-d79c82c39836",
   "metadata": {},
   "outputs": [
    {
     "name": "stdout",
     "output_type": "stream",
     "text": [
      "x \t y_pred\n",
      "(0, 5.633333333333329)\n",
      "(1, 6.173333333333329)\n",
      "(2, 6.713333333333329)\n",
      "(3, 7.25333333333333)\n",
      "(4, 7.7933333333333294)\n"
     ]
    }
   ],
   "source": [
    "print('x','\\t','y_pred')\n",
    "for i in lista:\n",
    "    print(i)"
   ]
  },
  {
   "cell_type": "markdown",
   "id": "5444174a-f6e2-4bb8-b7a8-476b8ba79440",
   "metadata": {},
   "source": [
    "### Multiple Linear Regression - Regresión lineal múltiple"
   ]
  },
  {
   "cell_type": "code",
   "execution_count": null,
   "id": "ff20457f-549a-436d-8a55-d942215095ee",
   "metadata": {},
   "outputs": [],
   "source": [
    "# Las librerías ya están cargadas"
   ]
  },
  {
   "cell_type": "code",
   "execution_count": null,
   "id": "b8392949-27a8-4623-bc8c-4c2e4cf8b9aa",
   "metadata": {},
   "outputs": [],
   "source": []
  },
  {
   "cell_type": "code",
   "execution_count": null,
   "id": "fab1f0e9-a923-4f9c-8f94-3ac67abd9742",
   "metadata": {},
   "outputs": [],
   "source": []
  },
  {
   "cell_type": "markdown",
   "id": "ce2244fd-64b2-4d8d-b99b-2e0a12b2b072",
   "metadata": {},
   "source": [
    "## Entrega 2.2"
   ]
  },
  {
   "cell_type": "markdown",
   "id": "ed4d287a-3ced-44d3-bf3e-9211f215f9b9",
   "metadata": {},
   "source": [
    "### Polynomial Regression With scikit-learn\n"
   ]
  },
  {
   "cell_type": "code",
   "execution_count": null,
   "id": "4438de2c-ce25-4727-9b31-500ab68b1b85",
   "metadata": {},
   "outputs": [],
   "source": [
    "# Librerías\n",
    "\n",
    "from sklearn.preprocessing import PolynomialFeatures"
   ]
  },
  {
   "cell_type": "code",
   "execution_count": null,
   "id": "a969fe5c-c98d-4a42-944b-f5bbae21dc70",
   "metadata": {},
   "outputs": [],
   "source": []
  },
  {
   "cell_type": "code",
   "execution_count": null,
   "id": "f097b866-8c04-461f-a345-ab2d0f33e850",
   "metadata": {},
   "outputs": [],
   "source": []
  },
  {
   "cell_type": "markdown",
   "id": "ce94ae64-476c-4b82-8764-95e440818273",
   "metadata": {},
   "source": [
    "### Advanced Linear Regression With statsmodels"
   ]
  },
  {
   "cell_type": "code",
   "execution_count": null,
   "id": "3788eb22-19ba-4094-aa21-6c0cb50e86b2",
   "metadata": {},
   "outputs": [],
   "source": [
    "# Librerías\n",
    "import statsmodels.api as sm"
   ]
  },
  {
   "cell_type": "code",
   "execution_count": null,
   "id": "18682a5f-e666-46af-8cc3-f0b4e229bd28",
   "metadata": {},
   "outputs": [],
   "source": []
  },
  {
   "cell_type": "code",
   "execution_count": null,
   "id": "6b3b8d26-1ef5-4fab-966b-a5fd36fbae73",
   "metadata": {},
   "outputs": [],
   "source": []
  }
 ],
 "metadata": {
  "kernelspec": {
   "display_name": "Python 3",
   "language": "python",
   "name": "python3"
  },
  "language_info": {
   "codemirror_mode": {
    "name": "ipython",
    "version": 3
   },
   "file_extension": ".py",
   "mimetype": "text/x-python",
   "name": "python",
   "nbconvert_exporter": "python",
   "pygments_lexer": "ipython3",
   "version": "3.8.2"
  }
 },
 "nbformat": 4,
 "nbformat_minor": 5
}
