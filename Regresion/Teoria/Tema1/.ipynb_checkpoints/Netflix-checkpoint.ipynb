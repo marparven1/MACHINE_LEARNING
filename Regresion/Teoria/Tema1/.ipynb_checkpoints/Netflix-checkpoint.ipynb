{
 "cells": [
  {
   "cell_type": "markdown",
   "id": "d4bb8cd9-c5b6-40d0-90e8-cd468a95f740",
   "metadata": {},
   "source": [
    "# PRÁCTICA 1: Desgranando el Sistema de Recomendación de Netflix\n",
    "### Aprendizaje automático\n",
    "## Marta Venegas Pardo"
   ]
  },
  {
   "cell_type": "markdown",
   "id": "54d52ca8-14ac-4050-b5f7-a6cfc39246c6",
   "metadata": {},
   "source": [
    "<b>Ideas clave</b>"
   ]
  },
  {
   "cell_type": "markdown",
   "id": "01d50792-fd2e-48c7-9484-7c4be9915302",
   "metadata": {},
   "source": []
  },
  {
   "cell_type": "markdown",
   "id": "fc493028-eba7-4af9-9a14-ca4099c8a845",
   "metadata": {},
   "source": []
  },
  {
   "cell_type": "markdown",
   "id": "413b43d6-8ed2-4145-ab9d-d3bead163629",
   "metadata": {},
   "source": []
  }
 ],
 "metadata": {
  "kernelspec": {
   "display_name": "Python 3",
   "language": "python",
   "name": "python3"
  },
  "language_info": {
   "codemirror_mode": {
    "name": "ipython",
    "version": 3
   },
   "file_extension": ".py",
   "mimetype": "text/x-python",
   "name": "python",
   "nbconvert_exporter": "python",
   "pygments_lexer": "ipython3",
   "version": "3.8.2"
  }
 },
 "nbformat": 4,
 "nbformat_minor": 5
}
