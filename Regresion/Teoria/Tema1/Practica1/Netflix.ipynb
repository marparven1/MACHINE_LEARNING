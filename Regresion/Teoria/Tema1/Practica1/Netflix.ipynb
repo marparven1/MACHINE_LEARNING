{
 "cells": [
  {
   "cell_type": "markdown",
   "id": "d4bb8cd9-c5b6-40d0-90e8-cd468a95f740",
   "metadata": {},
   "source": [
    "# PRÁCTICA 1: Desgranando el Sistema de Recomendación de Netflix\n",
    "\n",
    "Asignatura: Aprendizaje automático\n",
    "\n",
    "Marta Venegas Pardo"
   ]
  },
  {
   "cell_type": "markdown",
   "id": "f99527f1-7652-4043-8ec8-ce6d21d44ebe",
   "metadata": {},
   "source": [
    "## Breve historia introductoria"
   ]
  },
  {
   "cell_type": "markdown",
   "id": "5154dcbf-4b40-4c8d-87c3-8e0140906999",
   "metadata": {},
   "source": [
    "El objetivo de la práctica es describir el algoritmo de recomendación de Netflix, pero previamente, haremos una breve descripción de los comienzos de esta plataforma, que se ha convertido en la plataforma de streaming más valorada en la actualidad.\n",
    "\n",
    "**Netflix** es una plataforma de streaming Estadounidense fundada en agosto de 1997 por Reed Haastings y Marc Randolph que en Julio de este año contaba con más de 200 millones de suscriptores.\n",
    "\n",
    "Sin embargo, esta empresa no ha sido siempre una plataforma de streaming, ya que en sus comienzos alquilaba DVD por correo postal en Estados Unidos. Una característica diferenciadora era que la empresa no penalizaba a los clientes por devolver los videos fuera de la fecha establecida, y hasta que el título no fuera devuelto, el cliente no podía alquilar otro. No es hasta el año 1999, un año después de su fundación, que la compañía comenzó a ofrecer una suscripción de pago para apoder alquilar DVD's ilimitados. En el año 2007 fué introducido el servicio en streaming a la carta en dispositivos personales.\n",
    "\n",
    "Netflix, comienza en el año 2011 a producir contenido original, por lo que no solo ofrecía a sus suscriptores películas, series y documentales existentes, sino que comienza a lanzar su propio contenido como series o documentales exclusivas de la plataforma. Sin embargo, no fué hasta el año 2010 cuando empezó su expansión a nivel internacional, comenzando por Canadá (2010), luego Latinoamérica y el Caribe (2011), Holanda, Alemania, Austria, Bélgica, Francia, Luxemburgo y Suiza (2014). En el año 2020 ya está disponible en más de 190 países. Netflix gana en el año 2018 un Óscar por el documental Ícaro. Otra cifra destacable es el exponencial crecimiento en cuanto a número de suscriptores en el primer trimestre del año 2020, coindiciendo con la pandemia por el COVID-19, con un aumento de 16 millones de nuevos usuarios. \n"
   ]
  },
  {
   "cell_type": "markdown",
   "id": "9fb99016-ee72-4571-9238-b2e9e9918bea",
   "metadata": {},
   "source": [
    "## Ideas clave de la lectura\n",
    "\n",
    "Después de la lectura del artículo propuesto y de alguna que otra búsqueda por internet podemos extraer las siguientes ideas claves iniciales:\n",
    "\n",
    "- En el año 2020 Netflix gana más de 37 millones de nuevos suscriptores\n",
    "\n",
    "- Recogida de gran cantidad de datos (interacción con la web, correlación entre el gusto y las preferencias del usuario, contenido de netflix, hora del día, dispositivo, tiempo de visualización) toda esta información analizada genera la recomendación de contenido personalizada para cada usuario.\n",
    "- Nuevo algoritmo de recomendaciones basadas en análisis de gráficos: para captar la atención de los usuarios (estudios muestran que los usuarios perderán el interés en el uso de la plataforma si no encuentran nada interesante en los primeros 90 segundos)\n",
    "- AI para la recomendación de contenido: inicialmente pide gustos para comenzar a recomendar, pero cuanto más se use, mas acertada será la reocmendación\n",
    "- Es muy importante la experiencia del usuario y la personalización para cada usuario.\n",
    "- Emepzó alquilando DVD por correo postal en EEUU (1998) y no fué hasta 2007 que lanzó el servicio de reproducción de videos a la carta\n",
    "- Usa la nube de AWS desde Junio de 2016 (también Open Connect), empieza en 2008\n",
    "- Distintos sistemas recomendadores (transformación): puntuación -> ránking -> generación de páginas -> maximizar la experiencia del usuario (videos personalizados, top-N, contenido interesante, películas populares actualmente)\n",
    "\n"
   ]
  },
  {
   "cell_type": "markdown",
   "id": "fc99f003-8eaf-4b29-95de-797c430ba564",
   "metadata": {},
   "source": [
    "## Descripción del algoritmo\n",
    "Los sistemas de recomendación ayudan a los diferentes usuarios a elegir películas o series de entre un catálogo de más de 15000 títulos diferentes. Es importante captar la atención de los usuarios, ya que los clientes perderán el interés en la plataforma si durante los primeros dos minutos no ha encontrado algo para ver. Es por eso que estos sistemas de recomendación tienen que ofrecer la mayor personalización posible para el usuario, maximizando así la experiencia de éste."
   ]
  },
  {
   "cell_type": "markdown",
   "id": "d8a4dc0c-9ba6-4740-9db8-b576d08d6739",
   "metadata": {},
   "source": [
    "Cuando un nuevo usuario se registra en la plataforma, se le pide que elija entre diferentes títulos para así poder iniciar la recomendación de diferentes series o películas que podrían gustarle. Conforme vamos consumiendo contenido de la plataforma, el sistema de recomendación comienza a comprender los gustos de preferencias de cada uno de sus usuarios, ofreciendo así un contenido personalizado en función de los datos recopilados. El contenido es ofrecido de la siguiente manera:  **encuentra similitudes entre perfiles diferentes, y por tanto hará recomendaciones basadas en perfiles similares**.\n",
    "\n",
    "Netflix va recopilando todo tipo de información, como el dispositivo utilizado, la hora del día, el tiempo que pasamos en la plataforma, ubicación, título, género y también si hemos terminado de ver lo que iniciamos o no. Toda esta información es almacenada y utilizada para la creación de los diferentes algoritmos de recomendación."
   ]
  },
  {
   "cell_type": "markdown",
   "id": "d33436b8-6d01-413d-a49c-060aeba85f72",
   "metadata": {},
   "source": [
    "Cuando el usuario accede a la página principal de su perfil, ya está accediendo a contenido personalizado, atendiendo a diferentes categorías:\n",
    "\n",
    "- **Seleccionadas para el usuario**: se trata de una recomendación de títulos exclusiva para cada usuario específico en función del contenido consumido.\n",
    "- **Tendencias**: Se trata de contenido popular en la plataforma\n",
    "- **Contenido similar a**: Son títulos cuyo contenido es similar a otra serie o pelícua que el usuario haya visto recientemente o el tiempo que haya pasado viéndola\n",
    "- **Noticias**: Se trata de nuevos títulos que podrían ser interesantes para ciertos usuarios"
   ]
  },
  {
   "cell_type": "markdown",
   "id": "534ac80d-ad77-47bc-b01a-5737fdfa4893",
   "metadata": {},
   "source": [
    "![](NA.png)"
   ]
  },
  {
   "cell_type": "markdown",
   "id": "8c95cd3a-9b12-49ef-b723-ca84edc07040",
   "metadata": {},
   "source": [
    "A continuación se muestra una imagen que nos puede ayudar a comprender mejor como los diferentes algoritmos de recomendación hacen que los títulos se ordenen en función de las preferencias de cada usuario."
   ]
  },
  {
   "cell_type": "markdown",
   "id": "6ba18e40-6168-4dad-8d8d-b64c4fa20494",
   "metadata": {},
   "source": [
    "El orden de recomendación es el siguiente: *de izquierda a derecha y de arriba a abajo*, es decir, el título que el algoritmo ha conosiderado que el usuario podría elegir es el que se encuentra en la primera posición de la primera fila, después el segundo y así hasta acabar la primera fila y pasar a la siguiente."
   ]
  },
  {
   "cell_type": "markdown",
   "id": "e6795235-b66c-457e-a040-435afdfec8ba",
   "metadata": {},
   "source": [
    "Encontramos dos modelos principales que utliza la plataforma para filtrar los datos:\n",
    "\n",
    "- <b>Filtro basado en contenido</b>: compara la información de cada título a nivel individual, como reseñas o comentarios\n",
    "- <b>Filtro colaborativo</b>: este algoritmo trata de encontrar la relación existente entre las preferencias y el comportamiento de cada usuario\n",
    "\n",
    "A continuación, netflix va a calificar cada título en una categoría (Cada una de las filas de la página de inicio)"
   ]
  },
  {
   "cell_type": "markdown",
   "id": "f16166c3-958d-4a49-a24b-2be63028dcba",
   "metadata": {},
   "source": [
    "Netflix utiliza diferentes algoritmos de recomendación:\n",
    "\n",
    "- **Clasificación de video recomendada (PVR)**: se trata de un algorimo que divide los títulos en función de sus características (películas románticas, documentales sobre animales,...) y ofrece contenido a cada usuario en función de sus preferencias personales.\n",
    "- **Clasificación del Top-N**: clasifica los títulos en función de las preferencias top de cada usuario, determinando así los títulos más demandados de cada categoría.\n",
    "- **Clasificación de contenido interesante para su posterior visualización**: algoritmo que comprueba si un usuario ha terminado el título que empezó o no, y analiza datos como por ejemplo cuánto tiempo ha pasado desde la última vez que lo vió, dónde lo dejó de ver o en qué dispositivo, calculando así la probabilidad de que el usuario quiera continuar viéndolo.\n",
    "- **Clasificación de películas populares**: este algoritmo analiza que tipo de contenido es más popular en momento actual atendiendo a información que puede llevar a conocer la tendencia de visualización de los usuarios, por ejemplo, teniendo en cuenta eventos mundiales (el covid hizo que se dispararan las visualizaciones de la película contagio, he de decir que yo la ví durante la pandemia) o festivos como Halloween, Navidad o San Valentín, donde las visualizaciones de títulos de estos temas se disparan.\n",
    "- **Recomendaciones basadas en la portada de las películas**: este es un nuevo algoritmo de recomendación que utiliza imágenes para captar el interés de los usuarios, de tal manera que crea diferentes minuaturas para cada una de sus series o películas. Así ofrece a cada uno de sus clientes aquella imagen que pueda resultar más interesante basándose en la información almacenada sobre éste, es decir, el algoritmo personaliza las imágenes del encabezado de las películas para tratar de llegar a más usuarios. Este último algoritmo es un ejemplo clave de mejora de la experiencia de usuario, personalizando cada perfil en función de los datos de éste."
   ]
  },
  {
   "cell_type": "markdown",
   "id": "fff646e1-be8b-4813-a590-5fe10542ac3c",
   "metadata": {},
   "source": [
    "Se estima que más del 80% del contenido consumido de Netflix proviene de los diferentes sistemas de recomendación, es decir, la gran mayoría de visualizaciones provienen de los algoritmos de recomendación.\n"
   ]
  },
  {
   "cell_type": "markdown",
   "id": "71cfb4a9-baed-4bed-899a-19ceffa86a8b",
   "metadata": {},
   "source": [
    "Ahora nos preguntamos ¿qué datos son los que Netflix utiliza realmente para determinar la probabilidad de que un usuario vaya a ver una serie o película?\n",
    "\n",
    "Se recogen datos como interacción del usuario con el sitio web (títulos buscados, guardados, calificaciónes,...), hora del día, tipo de dispositivo, tiempo de visualización, correlaciones entre gustos de individuos dentro de un mismo grupo de preferencias o datos sobre el contenido de la plataforma (género, idioma, actores,...)."
   ]
  },
  {
   "cell_type": "markdown",
   "id": "87c9851f-f193-4799-9ffd-91002d9d463d",
   "metadata": {},
   "source": [
    "El sistema de recomendación también se basa en lo que se conoce como *A/B testing*, en el que se prueban distintas opciones relacionadas con sugerencias de películas, miniaturas o diferentes organizaciones de títulos para tratar de averiguar que despertará mayor interés en el usuario, es decir, tratar de averiguar que título será mas probable que un usuario determinado seleccione. Estos test suelen realizarse antes de introducir cambios en la plataforma, ya que se miden las métricas antes y después de realizar el cambio únicamente para ciertos usuarios obteniendo así datos que refuten las decisiones tomadas.\n",
    "\n",
    "\n",
    "Un ejemplo sencillo de un posible test A/B:\n",
    "\n",
    "Dividiremos a los usuarios de netflix que ven con frecuencia títulos románticos en dos grupos A y B. Al grupo A, que se trata del 50% de usuarios que ven con frecuencia películas románticas le mostraremos una miniatura de una escena romántica en diferentes títulos y al otro 50% no. Es importante que el resto de condiciones se mantengan constantes en ambos grupos. A continuación, se recogerán datos acerca del número de visualizaciones que han tenido estas películas y se medirá en qué grupo se han visto más películas. Si sale que en el grupo A se han visto más veces estos títulos ofrecidos con la miniatura romántica, nos indicaría que el mostrar miniaturas relacionadas con los gustos del usuario hace que éstos vayan a ver esos títulos con mayor probabilidad. Esto se traduciría en que si a un usuario le gustan las comedias románticas, el sistema de recomendación hará que lo que vea sea una miniatura que presenta una escena romántica de la película que el sistema le esté recomendando."
   ]
  },
  {
   "cell_type": "markdown",
   "id": "7f487374-cc27-4d86-8fdf-b8396bd2a0a8",
   "metadata": {},
   "source": [
    "Video interesante: https://www.youtube.com/watch?v=f8OK1HBEgn0"
   ]
  },
  {
   "cell_type": "markdown",
   "id": "58367414-db63-4b9b-8d97-27145f8658fb",
   "metadata": {},
   "source": [
    "### Fun Fact"
   ]
  },
  {
   "cell_type": "markdown",
   "id": "b23c05fc-159f-497b-968f-03e8739035a9",
   "metadata": {},
   "source": [
    "Para terminar, expondremos un dato interesante sobre Netflix. Este es que esta plataforma utiliza AWS, un servicio en la nube (también Open Connect). El motivo de migrar todo a la nube se debe a un fallo que hubo en uno de los data centers de Netflix durante tres días en agosto de 2008, días en los que el servicio de envíos de DVDs estuvo parado debido a que una base de datos estaba dañada. La empresa tardó más de ocho años en transladarse por completo a la nube, pero ésta le ha ofrecido mayor eficacia.\n",
    "\n",
    "Todo lo que ocurre antes de pulsar el botón de play ocurre en el servidor backend y se ejecuta en el AWS y lo que sucede después de presionar play es gestionado por Open Connect, almacena los videos de Netflix en distintas partes del mundo y las reproduce en cada dispositivo. \n",
    "\n",
    "La eficacia que se ha comentado anteriormente se consigue de la siguiente manera: Netflix usa AWS en tres regiones: Irlanda y dos en EEUU, obteniendo así una cobertura mundial. Dentro de cada región, Netflix opera en tres zonas de disponibilidad diferentes. \n",
    "La principal ventaja de tener las tres regiones es que si una de ellas falla, el resto se podrían ocuapr perfectamente de cubrir a los usuarios de la región que se ha caído, es decir, si nosotros estamos haciendo uso de la plataforma en España, lo más probable es que estemos conectados a la región de Irlanda, pero si se cae la región de Irlanda, se nos redirigiría a una de las dos regiones de EEUU y la caída pasaría desapercibida para nosotros. Esto se conoce como *evacuar* una región y se puede hacer en un tiempo de 6 minutos.\n"
   ]
  },
  {
   "cell_type": "markdown",
   "id": "e2ce7428-5497-42b3-a9c0-dbf3fb6e6611",
   "metadata": {},
   "source": [
    "Bibliografía:\n",
    "\n",
    "- https://recostream.com/blog/recommendation-system-netflix\n",
    "- https://histografias.com/infografia-historia-netflix.html\n",
    "- https://netflixtechblog.com/what-is-an-a-b-test-b08cc1b57962\n",
    "- https://www.xataka.com/streaming/la-compleja-infraestructura-detras-de-netflix-que-pasa-cuando-le-das-al-play\n",
    "- https://towardsdatascience.com/deep-dive-into-netflixs-recommender-system-341806ae3b48"
   ]
  }
 ],
 "metadata": {
  "kernelspec": {
   "display_name": "Python 3",
   "language": "python",
   "name": "python3"
  },
  "language_info": {
   "codemirror_mode": {
    "name": "ipython",
    "version": 3
   },
   "file_extension": ".py",
   "mimetype": "text/x-python",
   "name": "python",
   "nbconvert_exporter": "python",
   "pygments_lexer": "ipython3",
   "version": "3.8.2"
  },
  "toc-autonumbering": false
 },
 "nbformat": 4,
 "nbformat_minor": 5
}
